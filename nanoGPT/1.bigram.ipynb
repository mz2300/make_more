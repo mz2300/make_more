{
 "cells": [
  {
   "cell_type": "code",
   "execution_count": 3,
   "id": "21e82b3a-d834-44ff-9753-d2d3d0a5e975",
   "metadata": {},
   "outputs": [],
   "source": [
    "import torch\n",
    "import torch.nn.functional as F\n",
    "\n",
    "import matplotlib.pyplot as plt"
   ]
  },
  {
   "cell_type": "code",
   "execution_count": 4,
   "id": "fc60fb5e",
   "metadata": {},
   "outputs": [
    {
     "data": {
      "text/plain": [
       "'cuda'"
      ]
     },
     "execution_count": 4,
     "metadata": {},
     "output_type": "execute_result"
    }
   ],
   "source": [
    "device = 'cuda' if torch.cuda.is_available() else 'cpu'\n",
    "print(f'Using {device} device')"
   ]
  },
  {
   "cell_type": "code",
   "execution_count": 5,
   "id": "aa1198b7-e25d-4ce6-83f2-456b1ef2d0dc",
   "metadata": {},
   "outputs": [
    {
     "name": "stdout",
     "output_type": "stream",
     "text": [
      "First Citizen:\n",
      "Before we proceed any further, hear me speak.\n",
      "\n",
      "All:\n",
      "Speak, speak.\n",
      "\n",
      "First Citizen:\n",
      "You\n"
     ]
    }
   ],
   "source": [
    "with open('data/tiny_shakespeare.txt', 'r', encoding = 'utf-8') as f:\n",
    "    text = f.read()\n",
    "\n",
    "print(text[:100])"
   ]
  },
  {
   "cell_type": "code",
   "execution_count": 6,
   "id": "6cb248f6-6851-4b83-bccf-90c196dfe0c1",
   "metadata": {},
   "outputs": [
    {
     "data": {
      "text/plain": [
       "1115394"
      ]
     },
     "execution_count": 6,
     "metadata": {},
     "output_type": "execute_result"
    }
   ],
   "source": [
    "len(text)"
   ]
  },
  {
   "cell_type": "markdown",
   "id": "a0f16ee4-5c4a-49c4-a13b-6421d45c5828",
   "metadata": {},
   "source": [
    "### Vocab"
   ]
  },
  {
   "cell_type": "code",
   "execution_count": 7,
   "id": "7f294c4f-5641-4ff9-968d-5b57164db45e",
   "metadata": {},
   "outputs": [
    {
     "name": "stdout",
     "output_type": "stream",
     "text": [
      "\n",
      " !$&',-.3:;?ABCDEFGHIJKLMNOPQRSTUVWXYZabcdefghijklmnopqrstuvwxyz\n",
      "vocab_size=65\n"
     ]
    }
   ],
   "source": [
    "unique_symbols = sorted(list(set(text)))\n",
    "vocab_size = len(unique_symbols)\n",
    "\n",
    "print(''.join(unique_symbols))\n",
    "print(f'{vocab_size=}')"
   ]
  },
  {
   "cell_type": "markdown",
   "id": "457d0551-e86c-4f11-a932-d625242de407",
   "metadata": {},
   "source": [
    "### Encoder/decoder"
   ]
  },
  {
   "cell_type": "code",
   "execution_count": 8,
   "id": "a8a46cbe-129c-45a1-98db-36b8a3ef1d52",
   "metadata": {},
   "outputs": [
    {
     "name": "stdout",
     "output_type": "stream",
     "text": [
      "[46, 47, 47, 1, 58, 46, 43, 56, 43, 2]\n",
      "hii there!\n"
     ]
    }
   ],
   "source": [
    "stoi = {s: i for i, s in enumerate(unique_symbols)}\n",
    "itos = {i: s for s, i in stoi.items()}\n",
    "\n",
    "encode = lambda s: [stoi[ch] for ch in s]  # symbols to tokens\n",
    "decode = lambda l: ''.join([itos[i] for i in l])  # tokens to symbols\n",
    "\n",
    "s = 'hii there!'\n",
    "print(encode(s))\n",
    "print(decode(encode(s)))"
   ]
  },
  {
   "cell_type": "markdown",
   "id": "f25e27c2-a846-43da-8bcd-27dce2ca31f6",
   "metadata": {},
   "source": [
    "### Train/val split"
   ]
  },
  {
   "cell_type": "code",
   "execution_count": 9,
   "id": "811966b9-bdcb-44ae-b5f6-6f50babb6f18",
   "metadata": {},
   "outputs": [
    {
     "data": {
      "text/plain": [
       "torch.Size([1115394])"
      ]
     },
     "execution_count": 9,
     "metadata": {},
     "output_type": "execute_result"
    }
   ],
   "source": [
    "import torch\n",
    "\n",
    "data = torch.tensor(encode(text), dtype = torch.long)\n",
    "data.shape"
   ]
  },
  {
   "cell_type": "code",
   "execution_count": 10,
   "id": "73d77f12-ee54-4659-8408-f9e179cc5a64",
   "metadata": {},
   "outputs": [
    {
     "name": "stdout",
     "output_type": "stream",
     "text": [
      "torch.Size([1003854]) torch.Size([111540])\n"
     ]
    }
   ],
   "source": [
    "n = int(0.9 * len(data))\n",
    "\n",
    "train_data = data[:n]\n",
    "val_data = data[n:]\n",
    "\n",
    "print(train_data.shape, val_data.shape)"
   ]
  },
  {
   "cell_type": "markdown",
   "id": "c0c3ca89-6fb2-477e-8858-c5e2b152dead",
   "metadata": {},
   "source": [
    "### Build a dataset"
   ]
  },
  {
   "cell_type": "code",
   "execution_count": 11,
   "id": "17d02574-c673-4366-9190-1b3962d1df4d",
   "metadata": {},
   "outputs": [],
   "source": [
    "block_size = 8\n",
    "batch_size = 4"
   ]
  },
  {
   "cell_type": "code",
   "execution_count": 12,
   "id": "53d5111e-4da8-4f71-aee5-e03f16b74c6f",
   "metadata": {},
   "outputs": [
    {
     "name": "stdout",
     "output_type": "stream",
     "text": [
      "when input is tensor([18]) the target is 47\n",
      "when input is tensor([18, 47]) the target is 56\n",
      "when input is tensor([18, 47, 56]) the target is 57\n",
      "when input is tensor([18, 47, 56, 57]) the target is 58\n",
      "when input is tensor([18, 47, 56, 57, 58]) the target is 1\n",
      "when input is tensor([18, 47, 56, 57, 58,  1]) the target is 15\n",
      "when input is tensor([18, 47, 56, 57, 58,  1, 15]) the target is 47\n",
      "when input is tensor([18, 47, 56, 57, 58,  1, 15, 47]) the target is 58\n"
     ]
    }
   ],
   "source": [
    "## example of how data is going to look like\n",
    "x = train_data[:block_size]\n",
    "y = train_data[1:block_size + 1]\n",
    "\n",
    "for i in range(block_size):\n",
    "    x_i = x[:i+1]\n",
    "    y_i = y[i]\n",
    "    print(f'when input is {x_i} the target is {y_i}')"
   ]
  },
  {
   "cell_type": "code",
   "execution_count": 13,
   "id": "1c1d35be-43f2-49ce-8b92-ecf7df0e4ddc",
   "metadata": {},
   "outputs": [],
   "source": [
    "torch.manual_seed(1337)\n",
    "\n",
    "def get_batch(split):\n",
    "    data = train_data if split == 'train' else val_data\n",
    "    ix = torch.randint(len(data) - block_size, (batch_size,))\n",
    "    x_batch = torch.stack([data[i:i+block_size] for i in ix])\n",
    "    y_batch = torch.stack([data[i+1:i+block_size+1] for i in ix])\n",
    "    x_batch, y_batch = x_batch.to(device), y_batch.to(device)\n",
    "\n",
    "    return x_batch, y_batch"
   ]
  },
  {
   "cell_type": "code",
   "execution_count": 14,
   "id": "0d0732df-3f27-4ffb-acab-bf5aca53c211",
   "metadata": {},
   "outputs": [
    {
     "name": "stdout",
     "output_type": "stream",
     "text": [
      "torch.Size([4, 8]) torch.Size([4, 8])\n"
     ]
    }
   ],
   "source": [
    "x_batch, y_batch = get_batch('train')\n",
    "print(x_batch.shape, y_batch.shape)"
   ]
  },
  {
   "cell_type": "code",
   "execution_count": 15,
   "id": "8f99ad4b-350e-45f1-8f62-d45b00c922ed",
   "metadata": {},
   "outputs": [
    {
     "name": "stdout",
     "output_type": "stream",
     "text": [
      "when input is tensor([24], device='cuda:0') the target is 43\n",
      "when input is tensor([24, 43], device='cuda:0') the target is 58\n",
      "when input is tensor([24, 43, 58], device='cuda:0') the target is 5\n",
      "when input is tensor([24, 43, 58,  5], device='cuda:0') the target is 57\n",
      "when input is tensor([24, 43, 58,  5, 57], device='cuda:0') the target is 1\n",
      "when input is tensor([24, 43, 58,  5, 57,  1], device='cuda:0') the target is 46\n",
      "when input is tensor([24, 43, 58,  5, 57,  1, 46], device='cuda:0') the target is 43\n",
      "when input is tensor([24, 43, 58,  5, 57,  1, 46, 43], device='cuda:0') the target is 39\n",
      "when input is tensor([44], device='cuda:0') the target is 53\n",
      "when input is tensor([44, 53], device='cuda:0') the target is 56\n",
      "when input is tensor([44, 53, 56], device='cuda:0') the target is 1\n",
      "when input is tensor([44, 53, 56,  1], device='cuda:0') the target is 58\n",
      "when input is tensor([44, 53, 56,  1, 58], device='cuda:0') the target is 46\n",
      "when input is tensor([44, 53, 56,  1, 58, 46], device='cuda:0') the target is 39\n",
      "when input is tensor([44, 53, 56,  1, 58, 46, 39], device='cuda:0') the target is 58\n",
      "when input is tensor([44, 53, 56,  1, 58, 46, 39, 58], device='cuda:0') the target is 1\n",
      "when input is tensor([52], device='cuda:0') the target is 58\n",
      "when input is tensor([52, 58], device='cuda:0') the target is 1\n",
      "when input is tensor([52, 58,  1], device='cuda:0') the target is 58\n",
      "when input is tensor([52, 58,  1, 58], device='cuda:0') the target is 46\n",
      "when input is tensor([52, 58,  1, 58, 46], device='cuda:0') the target is 39\n",
      "when input is tensor([52, 58,  1, 58, 46, 39], device='cuda:0') the target is 58\n",
      "when input is tensor([52, 58,  1, 58, 46, 39, 58], device='cuda:0') the target is 1\n",
      "when input is tensor([52, 58,  1, 58, 46, 39, 58,  1], device='cuda:0') the target is 46\n",
      "when input is tensor([25], device='cuda:0') the target is 17\n",
      "when input is tensor([25, 17], device='cuda:0') the target is 27\n",
      "when input is tensor([25, 17, 27], device='cuda:0') the target is 10\n",
      "when input is tensor([25, 17, 27, 10], device='cuda:0') the target is 0\n",
      "when input is tensor([25, 17, 27, 10,  0], device='cuda:0') the target is 21\n",
      "when input is tensor([25, 17, 27, 10,  0, 21], device='cuda:0') the target is 1\n",
      "when input is tensor([25, 17, 27, 10,  0, 21,  1], device='cuda:0') the target is 54\n",
      "when input is tensor([25, 17, 27, 10,  0, 21,  1, 54], device='cuda:0') the target is 39\n"
     ]
    }
   ],
   "source": [
    "# check that our batch was formed correctly\n",
    "for batch_i in range(batch_size):\n",
    "    for i in range(block_size):\n",
    "        x_i = x_batch[batch_i, :i+1]\n",
    "        y_i = y_batch[batch_i, i]\n",
    "        print(f'when input is {x_i} the target is {y_i}')"
   ]
  },
  {
   "cell_type": "markdown",
   "id": "02a55781-f786-4dce-afcf-0e97e9500eb0",
   "metadata": {},
   "source": [
    "## Bigram model"
   ]
  },
  {
   "cell_type": "code",
   "execution_count": 16,
   "id": "f3a86678-71b7-41fb-b12c-ee406c685f0f",
   "metadata": {},
   "outputs": [],
   "source": [
    "import torch.nn as nn\n",
    "from torch.nn import functional as F"
   ]
  },
  {
   "cell_type": "code",
   "execution_count": 17,
   "id": "df3a7225-1b3f-485c-b1ea-5d6e20404fb6",
   "metadata": {},
   "outputs": [],
   "source": [
    "class BigramModel(nn.Module):\n",
    "    def __init__(self, vocab_size):\n",
    "        super().__init__()\n",
    "        self.token_embedding_table = nn.Embedding(vocab_size, vocab_size)\n",
    "\n",
    "    def forward(self, idx, targets = None):\n",
    "        # idx in our case is [batch, block_szie]\n",
    "        # so logits is gonna be [batch, block_szie, vector_dim], where vector_dim  = vocab_size\n",
    "        logits = self.token_embedding_table(idx) # (B, T, C), where B-batch, T-time, C-channel\n",
    "\n",
    "        if targets == None:\n",
    "            loss = None\n",
    "        else:\n",
    "            # logits (B, T, C)\n",
    "            # targets (B, T)\n",
    "            # but F.cross_entropy expects input of shape (batch, C, <all other dims>) ---> error\n",
    "            B, T, C = logits.shape\n",
    "            loss = F.cross_entropy(logits.view(B*T, C), targets.view(-1))\n",
    "            \n",
    "        return logits, loss\n",
    "\n",
    "\n",
    "    def generate(self, idx, max_new_tokens):\n",
    "        for _ in range(max_new_tokens):\n",
    "            logits, _ = self.forward(idx)\n",
    "            logits = logits[:, -1, :] # take only last token to predict the next one\n",
    "            probs = F.softmax(logits, dim = -1)\n",
    "            idx_next = torch.multinomial(probs, num_samples= 1)\n",
    "            idx = torch.cat((idx, idx_next), dim = 1)\n",
    "        return idx"
   ]
  },
  {
   "cell_type": "markdown",
   "id": "ebe855fd-115e-40a0-8a2b-9bfb4a4ad1b6",
   "metadata": {},
   "source": [
    "### Before training"
   ]
  },
  {
   "cell_type": "code",
   "execution_count": 18,
   "id": "0c56faf1-5707-4c92-8cf9-c54a0f5573f7",
   "metadata": {},
   "outputs": [
    {
     "name": "stdout",
     "output_type": "stream",
     "text": [
      "tensor(5.0364, device='cuda:0', grad_fn=<NllLossBackward0>)\n"
     ]
    }
   ],
   "source": [
    "m = BigramModel(vocab_size)\n",
    "m.to(device)\n",
    "logits, loss = m(x_batch, y_batch)\n",
    "print(loss)"
   ]
  },
  {
   "cell_type": "code",
   "execution_count": 19,
   "id": "d56869c5-460e-4861-b649-5918b4a8b394",
   "metadata": {},
   "outputs": [
    {
     "data": {
      "text/plain": [
       "Parameter containing:\n",
       "tensor([[ 0.6258,  0.0255,  0.9545,  ...,  0.0688,  1.3327, -0.4970],\n",
       "        [ 0.4658, -0.2573, -1.0673,  ...,  1.2439,  1.3471,  1.6910],\n",
       "        [-0.1244, -1.6824,  1.1346,  ...,  1.0785, -0.6150, -0.4589],\n",
       "        ...,\n",
       "        [ 0.1373,  0.2902, -0.1721,  ...,  2.9050,  1.3809,  0.5141],\n",
       "        [ 0.0195,  0.3881,  0.5838,  ...,  0.1362, -0.2022, -1.8831],\n",
       "        [-0.5178, -0.0930,  0.7448,  ...,  0.0883,  2.3935, -0.7376]],\n",
       "       device='cuda:0', requires_grad=True)"
      ]
     },
     "execution_count": 19,
     "metadata": {},
     "output_type": "execute_result"
    }
   ],
   "source": [
    "m.token_embedding_table.weight "
   ]
  },
  {
   "cell_type": "code",
   "execution_count": 20,
   "id": "5a8efa82-1c58-435f-8e39-826f743e9918",
   "metadata": {},
   "outputs": [
    {
     "data": {
      "text/plain": [
       "[0]"
      ]
     },
     "execution_count": 20,
     "metadata": {},
     "output_type": "execute_result"
    }
   ],
   "source": [
    "encode('\\n')"
   ]
  },
  {
   "cell_type": "code",
   "execution_count": 22,
   "id": "0d8e3fb0-b95f-4ee4-a380-f1caa6ab0f82",
   "metadata": {},
   "outputs": [
    {
     "name": "stdout",
     "output_type": "stream",
     "text": [
      "\n",
      "yq$;tfBfROkNdcuwdZZTkOMl;,ertK\n",
      "w:!PLCkMBbeA$3:XaSGJO-3p&M-c?KL3auhpFYVXJFhNNNuhq$OMxv.tbVFYdXlrFZaAe\n"
     ]
    }
   ],
   "source": [
    "start_token = torch.zeros((1, 1), dtype= torch.int, device = device)\n",
    "gen_text = m.generate(start_token, 100)\n",
    "print(decode(gen_text[0].tolist()))"
   ]
  },
  {
   "cell_type": "markdown",
   "id": "a2e65b54-309b-40d8-bcbb-a78a07f0d87b",
   "metadata": {},
   "source": [
    "### Training"
   ]
  },
  {
   "cell_type": "code",
   "execution_count": 23,
   "id": "ae580dde-058d-43f5-bb11-f0078aefc694",
   "metadata": {},
   "outputs": [],
   "source": [
    "optimizer = torch.optim.AdamW(m.parameters(), lr = 1e-3)"
   ]
  },
  {
   "cell_type": "code",
   "execution_count": 24,
   "id": "009b9d79-4675-4526-b091-47d337df9b79",
   "metadata": {},
   "outputs": [
    {
     "name": "stdout",
     "output_type": "stream",
     "text": [
      "2.4487955570220947\n"
     ]
    }
   ],
   "source": [
    "batch_size = 32\n",
    "for step in range(10_000):\n",
    "    x_batch, y_batch = get_batch('train')\n",
    "    logits, loss = m(x_batch, y_batch)\n",
    "\n",
    "    optimizer.zero_grad(set_to_none = True)\n",
    "    loss.backward()\n",
    "    optimizer.step()\n",
    "\n",
    "print(loss.item())    "
   ]
  },
  {
   "cell_type": "code",
   "execution_count": 25,
   "id": "22c02582-3b78-49d3-a661-837961a78add",
   "metadata": {},
   "outputs": [
    {
     "name": "stdout",
     "output_type": "stream",
     "text": [
      "\n",
      "Wawice my.\n",
      "\n",
      "HDEdarom oroup\n",
      "Yowhthetof isth ble mil; dill, ath iree sengmin lat Heriliovets, and Win \n"
     ]
    }
   ],
   "source": [
    "start_token = torch.zeros((1, 1), dtype= torch.int, device = device)\n",
    "gen_text = m.generate(start_token, 100)\n",
    "print(decode(gen_text[0].tolist()))\n",
    "\n",
    "# generated text looks better then before training but it is still not good "
   ]
  }
 ],
 "metadata": {
  "kernelspec": {
   "display_name": "torch_gpu_3_12",
   "language": "python",
   "name": "python3"
  },
  "language_info": {
   "codemirror_mode": {
    "name": "ipython",
    "version": 3
   },
   "file_extension": ".py",
   "mimetype": "text/x-python",
   "name": "python",
   "nbconvert_exporter": "python",
   "pygments_lexer": "ipython3",
   "version": "3.12.9"
  }
 },
 "nbformat": 4,
 "nbformat_minor": 5
}

{
 "cells": [
  {
   "cell_type": "code",
   "execution_count": 16,
   "id": "21e82b3a-d834-44ff-9753-d2d3d0a5e975",
   "metadata": {},
   "outputs": [],
   "source": [
    "import torch"
   ]
  },
  {
   "cell_type": "code",
   "execution_count": 17,
   "id": "fc60fb5e",
   "metadata": {},
   "outputs": [
    {
     "name": "stdout",
     "output_type": "stream",
     "text": [
      "Using cuda device\n"
     ]
    }
   ],
   "source": [
    "device = 'cuda' if torch.cuda.is_available() else 'cpu'\n",
    "print(f'Using {device} device')"
   ]
  },
  {
   "cell_type": "code",
   "execution_count": 18,
   "id": "aa1198b7-e25d-4ce6-83f2-456b1ef2d0dc",
   "metadata": {},
   "outputs": [
    {
     "data": {
      "text/plain": [
       "1115394"
      ]
     },
     "execution_count": 18,
     "metadata": {},
     "output_type": "execute_result"
    }
   ],
   "source": [
    "data_file_name = 'tiny_shakespeare'\n",
    "data_file_path = f'data/{data_file_name}.txt'\n",
    "with open(data_file_path, 'r', encoding = 'utf-8') as f:\n",
    "    text = f.read()\n",
    "len(text)"
   ]
  },
  {
   "cell_type": "markdown",
   "id": "a0f16ee4-5c4a-49c4-a13b-6421d45c5828",
   "metadata": {},
   "source": [
    "### Vocab"
   ]
  },
  {
   "cell_type": "code",
   "execution_count": 19,
   "id": "7f294c4f-5641-4ff9-968d-5b57164db45e",
   "metadata": {},
   "outputs": [
    {
     "name": "stdout",
     "output_type": "stream",
     "text": [
      "\n",
      " !$&',-.3:;?ABCDEFGHIJKLMNOPQRSTUVWXYZabcdefghijklmnopqrstuvwxyz\n",
      "vocab_size=65\n"
     ]
    }
   ],
   "source": [
    "unique_symbols = sorted(list(set(text)))\n",
    "vocab_size = len(unique_symbols)\n",
    "\n",
    "print(''.join(unique_symbols))\n",
    "print(f'{vocab_size=}')"
   ]
  },
  {
   "cell_type": "markdown",
   "id": "457d0551-e86c-4f11-a932-d625242de407",
   "metadata": {},
   "source": [
    "### Encoder/decoder"
   ]
  },
  {
   "cell_type": "code",
   "execution_count": 20,
   "id": "a8a46cbe-129c-45a1-98db-36b8a3ef1d52",
   "metadata": {},
   "outputs": [],
   "source": [
    "stoi = {s: i for i, s in enumerate(unique_symbols)}\n",
    "itos = {i: s for s, i in stoi.items()}\n",
    "\n",
    "encode = lambda s: [stoi[ch] for ch in s]  # symbols to tokens\n",
    "decode = lambda l: ''.join([itos[i] for i in l])  # tokens to symbols"
   ]
  },
  {
   "cell_type": "markdown",
   "id": "36d0b0a7",
   "metadata": {},
   "source": [
    "### Save vocab"
   ]
  },
  {
   "cell_type": "code",
   "execution_count": 21,
   "id": "57252fa4",
   "metadata": {},
   "outputs": [],
   "source": [
    "# save decoder\n",
    "import json\n",
    "\n",
    "vocab_file_path = f'vocabs/{data_file_name}_vocab.json'\n",
    "with open(vocab_file_path, 'w', encoding ='utf8') as f: \n",
    "    json.dump(itos, f,  indent=4, ensure_ascii = False)"
   ]
  },
  {
   "cell_type": "markdown",
   "id": "f25e27c2-a846-43da-8bcd-27dce2ca31f6",
   "metadata": {},
   "source": [
    "### Train/val split"
   ]
  },
  {
   "cell_type": "code",
   "execution_count": 22,
   "id": "811966b9-bdcb-44ae-b5f6-6f50babb6f18",
   "metadata": {},
   "outputs": [
    {
     "name": "stdout",
     "output_type": "stream",
     "text": [
      "torch.Size([1003854]) torch.Size([111540])\n"
     ]
    }
   ],
   "source": [
    "data = torch.tensor(encode(text), dtype = torch.long)\n",
    "n = int(0.9 * len(data))\n",
    "\n",
    "train_data = data[:n]\n",
    "val_data = data[n:]\n",
    "\n",
    "print(train_data.shape, val_data.shape)"
   ]
  },
  {
   "cell_type": "markdown",
   "id": "c0c3ca89-6fb2-477e-8858-c5e2b152dead",
   "metadata": {},
   "source": [
    "### Build a dataset"
   ]
  },
  {
   "cell_type": "code",
   "execution_count": 23,
   "id": "ca530dfe",
   "metadata": {},
   "outputs": [],
   "source": [
    "import transformer.transformer\n",
    "import transformer.config\n",
    "\n",
    "config = transformer.config.config_default\n",
    "config.vocab_size = vocab_size\n",
    "config.device = device"
   ]
  },
  {
   "cell_type": "code",
   "execution_count": null,
   "id": "1c1d35be-43f2-49ce-8b92-ecf7df0e4ddc",
   "metadata": {},
   "outputs": [],
   "source": [
    "torch.manual_seed(1337)\n",
    "batch_size = 128\n",
    "\n",
    "def get_batch(split):\n",
    "    data = train_data if split == 'train' else val_data\n",
    "    ix = torch.randint(len(data) - config.block_size, (batch_size,))\n",
    "    x_batch = torch.stack([data[i:i+config.block_size] for i in ix])\n",
    "    y_batch = torch.stack([data[i+1:i+config.block_size+1] for i in ix])\n",
    "    x_batch, y_batch = x_batch.to(device), y_batch.to(device)\n",
    "\n",
    "    return x_batch, y_batch"
   ]
  },
  {
   "cell_type": "markdown",
   "id": "02a55781-f786-4dce-afcf-0e97e9500eb0",
   "metadata": {},
   "source": [
    "## Model"
   ]
  },
  {
   "cell_type": "code",
   "execution_count": 25,
   "id": "245e50f2",
   "metadata": {},
   "outputs": [],
   "source": [
    "m = transformer.transformer.Decoder(config).to(device)"
   ]
  },
  {
   "cell_type": "code",
   "execution_count": 26,
   "id": "15e44a76",
   "metadata": {},
   "outputs": [],
   "source": [
    "num_eval_batches = 100\n",
    "\n",
    "@torch.no_grad()\n",
    "def estimate_loss():\n",
    "    out = {}\n",
    "    m.eval()\n",
    "    for split in ['train', 'val']:\n",
    "        losses = torch.zeros(num_eval_batches)\n",
    "        for n_batch in range(num_eval_batches):\n",
    "            x_batch, y_batch = get_batch(split)\n",
    "            _, loss = m(x_batch, y_batch)\n",
    "            losses[n_batch] = loss.item()\n",
    "        out[split] = losses.mean().item()\n",
    "    m.train()\n",
    "    return out"
   ]
  },
  {
   "cell_type": "code",
   "execution_count": 27,
   "id": "ae580dde-058d-43f5-bb11-f0078aefc694",
   "metadata": {},
   "outputs": [],
   "source": [
    "max_iters = 6_000\n",
    "scheduler_steps = [4_000, 5_000, 5_700]\n",
    "\n",
    "optimizer = torch.optim.AdamW(m.parameters(), lr = 1e-3)\n",
    "scheduler = torch.optim.lr_scheduler.MultiStepLR(optimizer, \n",
    "                                                 milestones = scheduler_steps, \n",
    "                                                 gamma = 0.1)"
   ]
  },
  {
   "cell_type": "code",
   "execution_count": 28,
   "id": "009b9d79-4675-4526-b091-47d337df9b79",
   "metadata": {},
   "outputs": [
    {
     "name": "stdout",
     "output_type": "stream",
     "text": [
      "step 0: train loss 4.3826, val loss 4.3819, lr 0.001\n",
      "step 1000: train loss 1.5468, val loss 1.7271, lr 0.001\n",
      "step 2000: train loss 1.3874, val loss 1.5989, lr 0.001\n",
      "step 3000: train loss 1.3218, val loss 1.5566, lr 0.001\n",
      "step 4000: train loss 1.2793, val loss 1.5202, lr 0.0001\n",
      "step 5000: train loss 1.2431, val loss 1.5052, lr 1e-05\n",
      "step 5999: train loss 1.2350, val loss 1.4911, lr 1.0000000000000002e-06\n"
     ]
    }
   ],
   "source": [
    "for step in range(max_iters):\n",
    "    x_batch, y_batch = get_batch('train')\n",
    "    logits, loss = m(x_batch, y_batch)\n",
    "\n",
    "    if step % 1000 == 0 or step == max_iters - 1:\n",
    "        losses = estimate_loss()\n",
    "        print(f\"step {step}: train loss {losses['train']:.4f}, val loss {losses['val']:.4f}, lr {scheduler.get_last_lr()[0]}\")\n",
    "\n",
    "    optimizer.zero_grad(set_to_none = True)\n",
    "    loss.backward()\n",
    "    optimizer.step()  \n",
    "    scheduler.step()\n",
    "\n",
    "# tiny shakespeare:\n",
    "# added just blocks: train loss 2.1716, val loss 2.2226\n",
    "# added skip connections: train loss 1.9001, val loss 2.0237\n",
    "# added layer norm: train loss 1.8880, val loss 2.0194\n",
    "# after model was scaled up: train loss 1.2350, val loss 1.4911"
   ]
  },
  {
   "cell_type": "code",
   "execution_count": 29,
   "id": "22c02582-3b78-49d3-a661-837961a78add",
   "metadata": {},
   "outputs": [
    {
     "name": "stdout",
     "output_type": "stream",
     "text": [
      "\n",
      "First, thy case.\n",
      "\n",
      "ANTIGONUS:\n",
      "I know 'tis well?\n",
      "'Tis good Montague doef Northumberland pity?'\n",
      "And go,\n",
      "And fear'st sharp him atternony; you are all.\n",
      "And to confusions, my sentence worse to thence;\n",
      "On some to a voice must blushing to do be patient,\n",
      "To Both her band up Burgunding but frottunes\n",
      "Tell for one several thandsmen how you have\n",
      "The gods you seen?\n",
      "\n",
      "WARWICK:\n",
      "O he break, Mistoner, is bounded harb'd put to put the.\n",
      "\n",
      "FoRD:\n",
      "\n",
      "ROMEO:\n",
      "I will not I do remember in stand functly\n",
      "The creek morn of good,\n"
     ]
    }
   ],
   "source": [
    "start_token = torch.zeros((1, 1), dtype= torch.int, device = device)\n",
    "gen_text = m.generate(start_token, 500) \n",
    "print(decode(gen_text[0].tolist()))"
   ]
  },
  {
   "cell_type": "code",
   "execution_count": 30,
   "id": "1e625273",
   "metadata": {},
   "outputs": [],
   "source": [
    "save_model_path = f'models/{data_file_name}_model.pth'\n",
    "torch.save(m.state_dict(), save_model_path)"
   ]
  }
 ],
 "metadata": {
  "kernelspec": {
   "display_name": "torch_gpu_3_12",
   "language": "python",
   "name": "python3"
  },
  "language_info": {
   "codemirror_mode": {
    "name": "ipython",
    "version": 3
   },
   "file_extension": ".py",
   "mimetype": "text/x-python",
   "name": "python",
   "nbconvert_exporter": "python",
   "pygments_lexer": "ipython3",
   "version": "3.12.9"
  }
 },
 "nbformat": 4,
 "nbformat_minor": 5
}

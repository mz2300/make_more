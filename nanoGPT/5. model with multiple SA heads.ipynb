{
 "cells": [
  {
   "cell_type": "code",
   "execution_count": 1,
   "id": "21e82b3a-d834-44ff-9753-d2d3d0a5e975",
   "metadata": {},
   "outputs": [],
   "source": [
    "import torch\n",
    "import torch.nn as nn\n",
    "from torch.nn import functional as F\n",
    "\n",
    "import matplotlib.pyplot as plt"
   ]
  },
  {
   "cell_type": "code",
   "execution_count": 2,
   "id": "fc60fb5e",
   "metadata": {},
   "outputs": [
    {
     "name": "stdout",
     "output_type": "stream",
     "text": [
      "Using cuda device\n"
     ]
    }
   ],
   "source": [
    "device = 'cuda' if torch.cuda.is_available() else 'cpu'\n",
    "print(f'Using {device} device')"
   ]
  },
  {
   "cell_type": "code",
   "execution_count": 3,
   "id": "aa1198b7-e25d-4ce6-83f2-456b1ef2d0dc",
   "metadata": {},
   "outputs": [
    {
     "data": {
      "text/plain": [
       "1115394"
      ]
     },
     "execution_count": 3,
     "metadata": {},
     "output_type": "execute_result"
    }
   ],
   "source": [
    "with open('data/tiny_shakespeare.txt', 'r', encoding = 'utf-8') as f:\n",
    "    text = f.read()\n",
    "len(text)"
   ]
  },
  {
   "cell_type": "markdown",
   "id": "a0f16ee4-5c4a-49c4-a13b-6421d45c5828",
   "metadata": {},
   "source": [
    "### Vocab"
   ]
  },
  {
   "cell_type": "code",
   "execution_count": 4,
   "id": "7f294c4f-5641-4ff9-968d-5b57164db45e",
   "metadata": {},
   "outputs": [
    {
     "name": "stdout",
     "output_type": "stream",
     "text": [
      "\n",
      " !$&',-.3:;?ABCDEFGHIJKLMNOPQRSTUVWXYZabcdefghijklmnopqrstuvwxyz\n",
      "vocab_size=65\n"
     ]
    }
   ],
   "source": [
    "unique_symbols = sorted(list(set(text)))\n",
    "vocab_size = len(unique_symbols)\n",
    "\n",
    "print(''.join(unique_symbols))\n",
    "print(f'{vocab_size=}')"
   ]
  },
  {
   "cell_type": "markdown",
   "id": "457d0551-e86c-4f11-a932-d625242de407",
   "metadata": {},
   "source": [
    "### Encoder/decoder"
   ]
  },
  {
   "cell_type": "code",
   "execution_count": 5,
   "id": "a8a46cbe-129c-45a1-98db-36b8a3ef1d52",
   "metadata": {},
   "outputs": [],
   "source": [
    "stoi = {s: i for i, s in enumerate(unique_symbols)}\n",
    "itos = {i: s for s, i in stoi.items()}\n",
    "\n",
    "encode = lambda s: [stoi[ch] for ch in s]  # symbols to tokens\n",
    "decode = lambda l: ''.join([itos[i] for i in l])  # tokens to symbols"
   ]
  },
  {
   "cell_type": "markdown",
   "id": "f25e27c2-a846-43da-8bcd-27dce2ca31f6",
   "metadata": {},
   "source": [
    "### Train/val split"
   ]
  },
  {
   "cell_type": "code",
   "execution_count": 6,
   "id": "811966b9-bdcb-44ae-b5f6-6f50babb6f18",
   "metadata": {},
   "outputs": [
    {
     "name": "stdout",
     "output_type": "stream",
     "text": [
      "torch.Size([1003854]) torch.Size([111540])\n"
     ]
    }
   ],
   "source": [
    "data = torch.tensor(encode(text), dtype = torch.long)\n",
    "n = int(0.9 * len(data))\n",
    "\n",
    "train_data = data[:n]\n",
    "val_data = data[n:]\n",
    "\n",
    "print(train_data.shape, val_data.shape)"
   ]
  },
  {
   "cell_type": "markdown",
   "id": "c0c3ca89-6fb2-477e-8858-c5e2b152dead",
   "metadata": {},
   "source": [
    "### Build a dataset"
   ]
  },
  {
   "cell_type": "code",
   "execution_count": 7,
   "id": "1c1d35be-43f2-49ce-8b92-ecf7df0e4ddc",
   "metadata": {},
   "outputs": [],
   "source": [
    "torch.manual_seed(1337)\n",
    "block_size = 8\n",
    "batch_size = 4\n",
    "\n",
    "def get_batch(split):\n",
    "    data = train_data if split == 'train' else val_data\n",
    "    ix = torch.randint(len(data) - block_size, (batch_size,))\n",
    "    x_batch = torch.stack([data[i:i+block_size] for i in ix])\n",
    "    y_batch = torch.stack([data[i+1:i+block_size+1] for i in ix])\n",
    "    x_batch, y_batch = x_batch.to(device), y_batch.to(device)\n",
    "\n",
    "    return x_batch, y_batch"
   ]
  },
  {
   "cell_type": "markdown",
   "id": "02a55781-f786-4dce-afcf-0e97e9500eb0",
   "metadata": {},
   "source": [
    "## Model"
   ]
  },
  {
   "cell_type": "code",
   "execution_count": 8,
   "id": "8deb794c",
   "metadata": {},
   "outputs": [],
   "source": [
    "# Head class\n",
    "n_embd = 32\n",
    "\n",
    "class Head(nn.Module):\n",
    "    def __init__(self, head_size):\n",
    "        super().__init__()\n",
    "        self.query = nn.Linear(n_embd, head_size, bias=False)\n",
    "        self.key = nn.Linear(n_embd, head_size, bias=False)\n",
    "        self.value = nn.Linear(n_embd, head_size, bias=False)\n",
    "        self.head_size = head_size\n",
    "\n",
    "        # non-learnable data (do not receive gradients or participate in optimization)\n",
    "        self.register_buffer('tril', torch.tril(torch.ones(block_size, block_size)))\n",
    "\n",
    "    def forward(self, x):\n",
    "        B, T, C = x.shape\n",
    "        q = self.query(x) # (B, T, head_size)\n",
    "        k = self.key(x) # (B, T, head_size)\n",
    "        wei = (q @ k.transpose(-2, -1)) * self.head_size ** -0.5 # (B, T, T)\n",
    "\n",
    "        wei = wei.masked_fill(self.tril[:T, :T] == 0, float('-inf')) # T can be smaller than block_size!!!!\n",
    "        wei = F.softmax(wei, dim=-1)\n",
    "\n",
    "        v = self.value(x) # (B, T, head_size)\n",
    "        out = wei @ v # (B, T, T) @ (B, T, head_size) = (B, T, head_size)\n",
    "        return out"
   ]
  },
  {
   "cell_type": "code",
   "execution_count": 9,
   "id": "ea9eef71",
   "metadata": {},
   "outputs": [],
   "source": [
    "class MultiHeadAttention(nn.Module):\n",
    "    def __init__(self, n_heads, head_size):\n",
    "        super().__init__()\n",
    "        self.heads = nn.ModuleList([Head(head_size) for _ in range(n_heads)])\n",
    "\n",
    "    def forward(self, x):\n",
    "        return torch.cat([h(x) for h in self.heads], dim = -1)"
   ]
  },
  {
   "cell_type": "code",
   "execution_count": 10,
   "id": "f0c2b6a4",
   "metadata": {},
   "outputs": [],
   "source": [
    "class FeedForward(nn.Module):\n",
    "    def __init__(self, n_embd):\n",
    "        super().__init__()\n",
    "        self.net = nn.Sequential(\n",
    "            nn.Linear(n_embd, n_embd),\n",
    "            nn.ReLU()\n",
    "        )\n",
    "\n",
    "    def forward(self, x):\n",
    "        return self.net(x)"
   ]
  },
  {
   "cell_type": "code",
   "execution_count": 11,
   "id": "df3a7225-1b3f-485c-b1ea-5d6e20404fb6",
   "metadata": {},
   "outputs": [],
   "source": [
    "# model\n",
    "class Decoder(nn.Module):\n",
    "    def __init__(self):\n",
    "        super().__init__()\n",
    "\n",
    "        # emb table for token in vocab\n",
    "        self.token_embedding_table = nn.Embedding(vocab_size, n_embd)\n",
    "\n",
    "        # emb table for each position\n",
    "        self.pos_embedding_table = nn.Embedding(block_size, n_embd)\n",
    "\n",
    "        self.lm_head = nn.Linear(n_embd, vocab_size)\n",
    "        self.sa_head = MultiHeadAttention(4, n_embd//4)\n",
    "        self.ffwd = FeedForward(n_embd)\n",
    "\n",
    "    def forward(self, idx, targets = None):\n",
    "        B, T = idx.shape\n",
    "\n",
    "        # channels = n_embd = 32 (not vocab_size!) so we do not receive logits directly anymore\n",
    "        token_emb = self.token_embedding_table(idx) # (B, T, C), where B-batch, T-time, C-channel\n",
    "        pos_emb = self.pos_embedding_table(torch.arange(T, device = device)) # (T, C)\n",
    "        x = token_emb + pos_emb # x holds not just token identities but their positions as well\n",
    "        x = self.sa_head(x)\n",
    "        x = self.ffwd(x)\n",
    "        logits = self.lm_head(x) # (B, T, V), where V-vocab_size\n",
    "\n",
    "        if targets == None:\n",
    "            loss = None\n",
    "        else:\n",
    "            # logits (B, T, C)\n",
    "            # targets (B, T)\n",
    "            # but F.cross_entropy expects input of shape (batch, C, <all other dims>) ---> error\n",
    "            B, T, C = logits.shape\n",
    "            loss = F.cross_entropy(logits.view(B*T, C), targets.view(-1))\n",
    "            \n",
    "        return logits, loss\n",
    "\n",
    "\n",
    "    def generate(self, idx, max_new_tokens):\n",
    "        for _ in range(max_new_tokens):\n",
    "            idx_cut = idx[:, -block_size:] # take only last block_size tokens\n",
    "            logits, _ = self.forward(idx_cut)\n",
    "            logits = logits[:, -1, :] # take only last token to predict the next one\n",
    "            probs = F.softmax(logits, dim = -1)\n",
    "            idx_next = torch.multinomial(probs, num_samples= 1)\n",
    "            idx = torch.cat((idx, idx_next), dim = 1)\n",
    "        return idx"
   ]
  },
  {
   "cell_type": "code",
   "execution_count": 12,
   "id": "0c56faf1-5707-4c92-8cf9-c54a0f5573f7",
   "metadata": {},
   "outputs": [],
   "source": [
    "m = Decoder().to(device)"
   ]
  },
  {
   "cell_type": "code",
   "execution_count": 13,
   "id": "15e44a76",
   "metadata": {},
   "outputs": [],
   "source": [
    "num_eval_batches = 100\n",
    "\n",
    "@torch.no_grad()\n",
    "def estimate_loss():\n",
    "    out = {}\n",
    "    m.eval()\n",
    "    for split in ['train', 'val']:\n",
    "        losses = torch.zeros(num_eval_batches)\n",
    "        for n_batch in range(num_eval_batches):\n",
    "            x_batch, y_batch = get_batch(split)\n",
    "            _, loss = m(x_batch, y_batch)\n",
    "            losses[n_batch] = loss.item()\n",
    "        out[split] = losses.mean().item()\n",
    "    m.train()\n",
    "    return out"
   ]
  },
  {
   "cell_type": "code",
   "execution_count": 14,
   "id": "ae580dde-058d-43f5-bb11-f0078aefc694",
   "metadata": {},
   "outputs": [],
   "source": [
    "optimizer = torch.optim.AdamW(m.parameters(), lr = 1e-3)"
   ]
  },
  {
   "cell_type": "code",
   "execution_count": 15,
   "id": "009b9d79-4675-4526-b091-47d337df9b79",
   "metadata": {},
   "outputs": [
    {
     "name": "stdout",
     "output_type": "stream",
     "text": [
      "step 0: train loss 4.2032, val loss 4.2009\n",
      "step 1000: train loss 2.4716, val loss 2.4772\n",
      "step 2000: train loss 2.3505, val loss 2.3616\n",
      "step 3000: train loss 2.2837, val loss 2.3051\n",
      "step 4000: train loss 2.2573, val loss 2.2613\n",
      "step 5000: train loss 2.1988, val loss 2.2556\n",
      "step 6000: train loss 2.1975, val loss 2.2227\n",
      "step 7000: train loss 2.1845, val loss 2.2125\n",
      "step 8000: train loss 2.1785, val loss 2.2082\n",
      "step 9000: train loss 2.1707, val loss 2.2066\n",
      "step 9999: train loss 2.1340, val loss 2.2014\n"
     ]
    }
   ],
   "source": [
    "batch_size = 32\n",
    "max_iters = 10_000\n",
    "for step in range(max_iters):\n",
    "    x_batch, y_batch = get_batch('train')\n",
    "    logits, loss = m(x_batch, y_batch)\n",
    "\n",
    "    if step % 1000 == 0 or step == max_iters - 1:\n",
    "        losses = estimate_loss()\n",
    "        print(f\"step {step}: train loss {losses['train']:.4f}, val loss {losses['val']:.4f}\")\n",
    "\n",
    "    optimizer.zero_grad(set_to_none = True)\n",
    "    loss.backward()\n",
    "    optimizer.step()  \n",
    "\n",
    "\n",
    "# Single SA head loss was ~2.38\n",
    "# before adding FFNN layer: 2.2132"
   ]
  },
  {
   "cell_type": "code",
   "execution_count": 18,
   "id": "22c02582-3b78-49d3-a661-837961a78add",
   "metadata": {},
   "outputs": [
    {
     "name": "stdout",
     "output_type": "stream",
     "text": [
      "\n",
      "BRETET:\n",
      "Wans!\n",
      "Al lind teall thull oncelfy:\n",
      "As thavest, why mour nou norfoodengive whouldy would thak\n"
     ]
    }
   ],
   "source": [
    "start_token = torch.zeros((1, 1), dtype= torch.int, device = device)\n",
    "gen_text = m.generate(start_token, 100)\n",
    "print(decode(gen_text[0].tolist()))"
   ]
  }
 ],
 "metadata": {
  "kernelspec": {
   "display_name": "torch_gpu_3_12",
   "language": "python",
   "name": "python3"
  },
  "language_info": {
   "codemirror_mode": {
    "name": "ipython",
    "version": 3
   },
   "file_extension": ".py",
   "mimetype": "text/x-python",
   "name": "python",
   "nbconvert_exporter": "python",
   "pygments_lexer": "ipython3",
   "version": "3.12.9"
  }
 },
 "nbformat": 4,
 "nbformat_minor": 5
}

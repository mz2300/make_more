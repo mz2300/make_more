{
 "cells": [
  {
   "cell_type": "markdown",
   "id": "fff1abd4-4fa9-475a-9791-c131583135ee",
   "metadata": {},
   "source": [
    "## Backprop for 1 hidden layer + BatchNorm + tanh"
   ]
  },
  {
   "cell_type": "markdown",
   "id": "5c05975f-b94d-4c74-829e-24b71748cb10",
   "metadata": {},
   "source": [
    "Copy code from prev notebooks:"
   ]
  },
  {
   "cell_type": "code",
   "execution_count": 1,
   "id": "98d77a8d-b9b7-4afd-8efd-9a205aeb016c",
   "metadata": {},
   "outputs": [],
   "source": [
    "import torch\n",
    "import torch.nn.functional as F"
   ]
  },
  {
   "cell_type": "code",
   "execution_count": 2,
   "id": "5897203d-7a3a-464c-ad15-21933aaec375",
   "metadata": {},
   "outputs": [
    {
     "name": "stdout",
     "output_type": "stream",
     "text": [
      "Num of unique symbols: 28\n"
     ]
    }
   ],
   "source": [
    "with open('unique_english_words.txt', 'r') as f:\n",
    "    words = [word.rstrip() for word in f.readlines()] \n",
    "\n",
    "SPECIAL_TOKEN = '.'\n",
    "unique_symbols = sorted(list(set(list(''.join(words)))))\n",
    "unique_symbols.append(SPECIAL_TOKEN)\n",
    "print(f'Num of unique symbols: {len(unique_symbols)}')\n",
    "\n",
    "stoi = {s: i for i, s in enumerate(unique_symbols)}\n",
    "itos = {i: s for s, i in stoi.items()}"
   ]
  },
  {
   "cell_type": "code",
   "execution_count": 3,
   "id": "ed9324da-d4c1-4bd2-b1f8-92ee3a3a0fef",
   "metadata": {},
   "outputs": [
    {
     "name": "stdout",
     "output_type": "stream",
     "text": [
      "train: 758\n",
      "val: 95\n",
      "test: 95\n"
     ]
    }
   ],
   "source": [
    "import random\n",
    "\n",
    "random.seed(23)\n",
    "random.shuffle(words)\n",
    "\n",
    "train_split = int(0.8 * len(words))\n",
    "val_split = int(0.9 * len(words))\n",
    "\n",
    "train_words = words[:train_split]\n",
    "val_words = words[train_split:val_split]\n",
    "test_words = words[val_split:]\n",
    "\n",
    "print('train:', len(train_words))\n",
    "print('val:', len(val_words))\n",
    "print('test:', len(test_words))"
   ]
  },
  {
   "cell_type": "code",
   "execution_count": 4,
   "id": "2dc572a8-fc1e-4054-8413-c65bc971cc95",
   "metadata": {},
   "outputs": [
    {
     "name": "stdout",
     "output_type": "stream",
     "text": [
      "torch.Size([7182, 3]) torch.Size([7182])\n",
      "torch.Size([904, 3]) torch.Size([904])\n",
      "torch.Size([931, 3]) torch.Size([931])\n"
     ]
    }
   ],
   "source": [
    "# build dataset on full data\n",
    "block_size = 3 # how many characters we are gonna use to predict the next one\n",
    "\n",
    "def build_dataset(words):\n",
    "    X = []\n",
    "    y = []\n",
    "    \n",
    "    for word in words:\n",
    "        word = SPECIAL_TOKEN * block_size + word + SPECIAL_TOKEN\n",
    "        for i in range(block_size, len(word)):\n",
    "            context = word[i - block_size:i]\n",
    "            ch_to_predict = word[i]\n",
    "    \n",
    "            X.append([stoi[ch] for ch in context])\n",
    "            y.append(stoi[ch_to_predict])\n",
    "    \n",
    "    X = torch.tensor(X)\n",
    "    y = torch.tensor(y)\n",
    "\n",
    "    return X, y\n",
    "\n",
    "\n",
    "X_train, y_train = build_dataset(train_words)\n",
    "X_val, y_val = build_dataset(val_words)\n",
    "X_test, y_test = build_dataset(test_words)\n",
    "\n",
    "print(X_train.shape, y_train.shape)\n",
    "print(X_val.shape, y_val.shape)\n",
    "print(X_test.shape, y_test.shape)"
   ]
  },
  {
   "cell_type": "code",
   "execution_count": 5,
   "id": "10132c6a-0cfb-4a5a-8a08-e6036bd3947e",
   "metadata": {},
   "outputs": [],
   "source": [
    "g = torch.Generator().manual_seed(23)\n",
    "\n",
    "vector_dim = 2\n",
    "C = torch.randn((len(unique_symbols), vector_dim),             generator = g)\n",
    "\n",
    "hidden_layer_size = 100\n",
    "W1 = torch.randn((block_size * vector_dim, hidden_layer_size), generator = g) * (5/3.) / (block_size * vector_dim) ** 0.5\n",
    "b1 = torch.randn((hidden_layer_size,),                         generator = g) * 0.1\n",
    "W2 = torch.randn((hidden_layer_size, len(unique_symbols)),     generator = g) * 0.1\n",
    "b2 = torch.randn((len(unique_symbols),),                       generator = g) * 0.1\n",
    "\n",
    "## batch norm trainable params\n",
    "bn_gain = torch.randn((1, hidden_layer_size)) * 0.1 + 1\n",
    "bn_bias = torch.randn((1, hidden_layer_size)) * 0.1\n",
    "\n",
    "params = [C, W1, b1, W2, b2, bn_gain, bn_bias]\n",
    "for p in params:\n",
    "    p.requires_grad = True"
   ]
  },
  {
   "cell_type": "code",
   "execution_count": 6,
   "id": "d818aaac-9b5e-49de-b420-589e6107980f",
   "metadata": {},
   "outputs": [],
   "source": [
    "# forward pass (1 iteration)\n",
    "\n",
    "batch_size = 64\n",
    "rand_indecies = torch.randint(0, X_train.shape[0], (batch_size, ), generator = g)\n",
    "\n",
    "x_batch = X_train[rand_indecies, ...]\n",
    "y_batch = y_train[rand_indecies, ...]\n",
    "\n",
    "# ---------------forward pass---------------\n",
    "emb = C[x_batch] # shape: [batch_size, block_size, vector_dim]\n",
    "emb_cat = emb.view(-1, block_size * vector_dim)\n",
    "h_prebn =  emb_cat @ W1 + b1\n",
    "\n",
    "\n",
    "## BATCH NORM\n",
    "#mean\n",
    "bn_mean = (1/batch_size) * h_prebn.sum(dim = 0, keepdim = True)\n",
    "\n",
    "#variance\n",
    "bn_diff = h_prebn - bn_mean\n",
    "bn_diff_2 = bn_diff ** 2\n",
    "bn_var = (1/(batch_size - 1)) * bn_diff_2.sum(dim = 0, keepdim = True)\n",
    "bn_std_inv = (bn_var + 1e-5) ** (-0.5) # 1e-5 to avoid division by 0\n",
    "\n",
    "bn_norm = bn_diff * bn_std_inv\n",
    "bn_scaled = bn_gain * bn_norm + bn_bias\n",
    "\n",
    "h = torch.tanh(bn_scaled)\n",
    "logits = h @ W2 + b2\n",
    "\n",
    "\n",
    "# -----softmax-----\n",
    "# subtract max values to avoid getting exp ** big_value = inf\n",
    "logit_maxes = logits.max(dim = 1, keepdim = True).values\n",
    "norm_logits = logits - logit_maxes\n",
    "counts = norm_logits.exp()\n",
    "counts_sum_inv = counts.sum(dim = 1, keepdim = True)  ** -1\n",
    "probs = counts * counts_sum_inv\n",
    "\n",
    "#----loss----\n",
    "log_probs = probs[torch.arange(probs.shape[0]), y_batch].log()\n",
    "loss = -log_probs.mean() # neg_log_likelihood\n",
    "loss\n",
    "\n",
    "\n",
    "#----backward pass-------\n",
    "for p in params:\n",
    "    p.grad = None\n",
    "\n",
    "for p in [log_probs, probs, counts_sum_inv, counts, norm_logits, logit_maxes, logits, \n",
    "          h, bn_scaled, bn_norm, bn_std_inv, bn_var, bn_diff_2, bn_diff, bn_mean,\n",
    "         h_prebn, emb_cat, emb]:\n",
    "    p.retain_grad()\n",
    "\n",
    "loss.backward()"
   ]
  },
  {
   "cell_type": "markdown",
   "id": "c630bea2-7d98-46e6-a7b2-cd24a4a7914b",
   "metadata": {},
   "source": [
    "# Breaking backprob by logical chunks"
   ]
  },
  {
   "cell_type": "code",
   "execution_count": 7,
   "id": "10262d12-70f6-4918-8477-cf7c19f56b83",
   "metadata": {},
   "outputs": [],
   "source": [
    "# function that compares grad calculated manually and grad calculated by torch\n",
    "\n",
    "def cmp(s, dt, t):\n",
    "    ex = torch.all(dt == t.grad).item()\n",
    "    app = torch.allclose(dt, t.grad)\n",
    "    maxdiff = (dt - t.grad).abs().max().item()\n",
    "    print(f'{s:15s} | exact: {str(ex):5s} | approximate: {str(app):5s} | maxdiff: {maxdiff}')"
   ]
  },
  {
   "cell_type": "markdown",
   "id": "197a8370-068c-4a0c-931d-6153d000538b",
   "metadata": {},
   "source": [
    "## SOFTMAX"
   ]
  },
  {
   "cell_type": "code",
   "execution_count": 8,
   "id": "a45a7ef3-2c76-43ef-b443-b1c55ab73f96",
   "metadata": {},
   "outputs": [],
   "source": [
    "# logit_maxes = logits.max(dim = 1, keepdim = True).values\n",
    "# norm_logits = logits - logit_maxes\n",
    "# counts = norm_logits.exp()\n",
    "# counts_sum_inv = counts.sum(dim = 1, keepdim = True) ** -1\n",
    "# probs = counts * counts_sum_inv\n",
    "\n",
    "\n",
    "# #----loss----\n",
    "# log_probs = probs[torch.arange(probs.shape[0]), y_batch].log()\n",
    "# loss = -log_probs.mean() # neg_log_likelihood\n",
    "# loss"
   ]
  },
  {
   "cell_type": "code",
   "execution_count": 9,
   "id": "9a23d207-a43f-4a1d-9c32-05c93143ad2d",
   "metadata": {},
   "outputs": [
    {
     "name": "stdout",
     "output_type": "stream",
     "text": [
      "logprobs        | exact: True  | approximate: True  | maxdiff: 0.0\n",
      "probs           | exact: True  | approximate: True  | maxdiff: 0.0\n",
      "counts_sum_inv  | exact: True  | approximate: True  | maxdiff: 0.0\n",
      "counts          | exact: True  | approximate: True  | maxdiff: 0.0\n",
      "norm_logits     | exact: True  | approximate: True  | maxdiff: 0.0\n",
      "logit_maxes     | exact: True  | approximate: True  | maxdiff: 0.0\n"
     ]
    }
   ],
   "source": [
    "# ----------loss = -log_probs.mean()\n",
    "d_loss_d_log_probs = -torch.full((batch_size, ), 1./batch_size)\n",
    "cmp('logprobs', d_loss_d_log_probs, log_probs)\n",
    "\n",
    "# ----------log_probs = probs[torch.arange(probs.shape[0]), y_batch].log()\n",
    "d_log_probs_d_probs = 1 / probs # d/dx (ln(x)) = 1 / x\n",
    "mask = torch.zeros(d_log_probs_d_probs.shape)\n",
    "mask[torch.arange(probs.shape[0]), y_batch] = 1\n",
    "d_loss_d_probs = d_loss_d_log_probs.view(batch_size, 1) * d_log_probs_d_probs * mask\n",
    "cmp('probs', d_loss_d_probs, probs)\n",
    "\n",
    "# ----------probs = counts * counts_sum_inv\n",
    "d_loss_d_counts_sum_inv = (d_loss_d_probs * counts).sum(1, keepdim = True)\n",
    "cmp('counts_sum_inv', d_loss_d_counts_sum_inv, counts_sum_inv)\n",
    "\n",
    "# ----------probs = counts * counts_sum_inv\n",
    "d_loss_d_counts = d_loss_d_probs * counts_sum_inv\n",
    "\n",
    "# but 'counts' are used in counts_sum_inv = counts.sum(dim = 1, keepdim = True) ** -1 as well\n",
    "# so we are not finished calculating its gradients\n",
    "\n",
    "# ----------counts_sum_inv = counts.sum(dim = 1, keepdim = True) ** -1 \n",
    "d_loss_d_counts_2 = d_loss_d_counts_sum_inv * (- counts.sum(dim = 1, keepdim = True) ** -2)# d(1/x)/dx = -1/x**2\n",
    "d_loss_d_counts = d_loss_d_counts + d_loss_d_counts_2\n",
    "cmp('counts', d_loss_d_counts, counts)\n",
    "\n",
    "#----------counts = norm_logits.exp()\n",
    "# d_exp/d_x = exp(x)\n",
    "d_loss_d_norm_logits = d_loss_d_counts * counts # = norm_logits.exp() \n",
    "cmp('norm_logits', d_loss_d_norm_logits, norm_logits)\n",
    "\n",
    "# ----------norm_logits = logits - logit_maxes\n",
    "# 'logits' are using to calculate logit_maxes as well! So this is not a final grad! \n",
    "d_loss_d_logits = d_loss_d_norm_logits * torch.ones(logits.shape)\n",
    "\n",
    "# logit_maxes shape is [batch_size, 1] => grad should have the same shape\n",
    "d_loss_d_logit_maxes = (d_loss_d_norm_logits * -torch.ones(logit_maxes.shape)).sum(1, keepdim = True) \n",
    "cmp('logit_maxes', d_loss_d_logit_maxes, logit_maxes)"
   ]
  },
  {
   "cell_type": "code",
   "execution_count": 10,
   "id": "120dc7bd-55cb-4e6f-873e-b30f3ef1bb26",
   "metadata": {},
   "outputs": [
    {
     "data": {
      "text/plain": [
       "tensor([[-2.0955e-09],\n",
       "        [-3.4925e-10],\n",
       "        [ 9.3132e-10],\n",
       "        [ 0.0000e+00],\n",
       "        [ 4.6566e-10],\n",
       "        [-1.3970e-09],\n",
       "        [ 0.0000e+00],\n",
       "        [ 0.0000e+00],\n",
       "        [-1.1642e-09],\n",
       "        [ 0.0000e+00],\n",
       "        [ 1.1642e-09],\n",
       "        [ 2.3283e-10],\n",
       "        [-4.6566e-10],\n",
       "        [ 2.3283e-10],\n",
       "        [ 0.0000e+00],\n",
       "        [ 1.5134e-09],\n",
       "        [-4.6566e-10],\n",
       "        [ 4.6566e-10],\n",
       "        [-1.8626e-09],\n",
       "        [-9.3132e-10],\n",
       "        [-9.3132e-10],\n",
       "        [-3.4925e-09],\n",
       "        [ 1.3970e-09],\n",
       "        [-8.1491e-10],\n",
       "        [ 1.7462e-09],\n",
       "        [-4.6566e-10],\n",
       "        [ 0.0000e+00],\n",
       "        [ 6.9849e-10],\n",
       "        [-6.9849e-10],\n",
       "        [-9.3132e-10],\n",
       "        [ 9.3132e-10],\n",
       "        [-4.6566e-10],\n",
       "        [ 9.3132e-10],\n",
       "        [-2.5611e-09],\n",
       "        [ 6.9849e-10],\n",
       "        [-5.8208e-10],\n",
       "        [ 1.3970e-09],\n",
       "        [ 2.3283e-10],\n",
       "        [ 9.3132e-10],\n",
       "        [ 2.3283e-10],\n",
       "        [ 3.7253e-09],\n",
       "        [ 0.0000e+00],\n",
       "        [ 1.8626e-09],\n",
       "        [-4.6566e-10],\n",
       "        [ 1.8626e-09],\n",
       "        [-9.3132e-10],\n",
       "        [ 3.3760e-09],\n",
       "        [ 1.3970e-09],\n",
       "        [ 1.1642e-10],\n",
       "        [-9.3132e-10],\n",
       "        [ 1.1642e-10],\n",
       "        [-9.3132e-10],\n",
       "        [ 9.3132e-10],\n",
       "        [ 0.0000e+00],\n",
       "        [ 5.8208e-10],\n",
       "        [ 0.0000e+00],\n",
       "        [ 9.3132e-10],\n",
       "        [ 0.0000e+00],\n",
       "        [-1.0477e-09],\n",
       "        [ 1.7462e-09],\n",
       "        [-1.1642e-09],\n",
       "        [-9.3132e-10],\n",
       "        [ 2.9104e-09],\n",
       "        [-1.1642e-10]], grad_fn=<SumBackward1>)"
      ]
     },
     "execution_count": 10,
     "metadata": {},
     "output_type": "execute_result"
    }
   ],
   "source": [
    "# ideally d_loss_d_logit_maxes should be 0\n",
    "# because this operation 'logits - logit_maxes' does not affect neither counts nor probs nor loss!\n",
    "# indeed we get really small (close to 0) gradient values which demonstarte how small is the impact of logit_maxes on loss\n",
    "d_loss_d_logit_maxes"
   ]
  },
  {
   "cell_type": "code",
   "execution_count": 11,
   "id": "1a21afb1-3e67-4108-a0f5-b3d2e1c70626",
   "metadata": {},
   "outputs": [
    {
     "name": "stdout",
     "output_type": "stream",
     "text": [
      "logits          | exact: True  | approximate: True  | maxdiff: 0.0\n"
     ]
    }
   ],
   "source": [
    "# ----------logit_maxes = logits.max(dim = 1, keepdim = True).values\n",
    "d_loss_d_logits_1 = torch.zeros(logits.shape)\n",
    "d_loss_d_logits_1[range(d_loss_d_logits_1.shape[0]), logits.max(dim = 1).indices] = 1\n",
    "d_loss_d_logits += d_loss_d_logits_1 * d_loss_d_logit_maxes\n",
    "cmp('logits', d_loss_d_logits, logits)"
   ]
  },
  {
   "cell_type": "markdown",
   "id": "244cc368-ab1f-4ed0-9650-0c72337758ca",
   "metadata": {},
   "source": [
    "## Batch Norm"
   ]
  },
  {
   "cell_type": "code",
   "execution_count": 12,
   "id": "6b5c98de-a7a3-420c-bbd2-07b738e64a56",
   "metadata": {},
   "outputs": [
    {
     "name": "stdout",
     "output_type": "stream",
     "text": [
      "h               | exact: True  | approximate: True  | maxdiff: 0.0\n",
      "W2              | exact: True  | approximate: True  | maxdiff: 0.0\n",
      "b2              | exact: True  | approximate: True  | maxdiff: 0.0\n",
      "bn_scaled       | exact: True  | approximate: True  | maxdiff: 0.0\n",
      "bn_gain         | exact: True  | approximate: True  | maxdiff: 0.0\n",
      "bn_norm         | exact: True  | approximate: True  | maxdiff: 0.0\n",
      "bn_bias         | exact: True  | approximate: True  | maxdiff: 0.0\n",
      "bn_std_inv      | exact: True  | approximate: True  | maxdiff: 0.0\n",
      "bn_var          | exact: True  | approximate: True  | maxdiff: 0.0\n",
      "bn_diff_2       | exact: True  | approximate: True  | maxdiff: 0.0\n",
      "bn_diff         | exact: True  | approximate: True  | maxdiff: 0.0\n",
      "bn_mean         | exact: True  | approximate: True  | maxdiff: 0.0\n",
      "h_prebn         | exact: True  | approximate: True  | maxdiff: 0.0\n"
     ]
    }
   ],
   "source": [
    "# #mean\n",
    "# bn_mean = (1/batch_size) * h_prebn.sum(dim = 0, keepdim = True)\n",
    "\n",
    "# #variance\n",
    "# bn_diff = h_prebn - bn_mean\n",
    "# bn_diff_2 = bn_diff ** 2\n",
    "# bn_var = (1/(batch_size - 1)) * bn_diff_2.sum(dim = 0, keepdim = True)\n",
    "# bn_std_inv = (bn_var + 1e-5) ** (-0.5) # 1e-5 to avoid division by 0\n",
    "# bn_norm = bn_diff * bn_std_inv\n",
    "# bn_scaled = bn_gain * bn_norm + bn_bias\n",
    "\n",
    "# h = torch.tanh(bn_scaled)\n",
    "# logits = h @ W2 + b2\n",
    "#--------------------------------------------------------------------------\n",
    "\n",
    "# ----------logits = h @ W2 + b2\n",
    "d_loss_d_h = d_loss_d_logits @ W2.T \n",
    "cmp('h', d_loss_d_h, h)\n",
    "\n",
    "d_loss_d_W2 = h.T @ d_loss_d_logits\n",
    "cmp('W2', d_loss_d_W2, W2)\n",
    "\n",
    "d_loss_d_b2 = 1 * d_loss_d_logits.sum(0)\n",
    "cmp('b2', d_loss_d_b2, b2)\n",
    "\n",
    "# ----------h = torch.tanh(bn_scaled)\n",
    "\n",
    "# d_tanh = 1 - tanh**2\n",
    "d_loss_d_bn_scaled = d_loss_d_h * (1 - h**2)\n",
    "cmp('bn_scaled', d_loss_d_bn_scaled, bn_scaled)\n",
    "\n",
    "# bn_scaled = bn_gain * bn_norm + bn_bias\n",
    "d_loss_d_bn_gain = (bn_norm * d_loss_d_bn_scaled).sum(0, keepdim = True)\n",
    "cmp('bn_gain', d_loss_d_bn_gain, bn_gain)\n",
    "\n",
    "d_loss_d_bn_norm = bn_gain * d_loss_d_bn_scaled\n",
    "cmp('bn_norm', d_loss_d_bn_norm, bn_norm)\n",
    "\n",
    "d_loss_d_bn_bias = 1 * d_loss_d_bn_scaled.sum(0, keepdim = True)\n",
    "cmp('bn_bias', d_loss_d_bn_bias, bn_bias)\n",
    "\n",
    "# ----------bn_norm = bn_diff * bn_std_inv\n",
    "d_loss_d_bn_diff = d_loss_d_bn_norm * bn_std_inv\n",
    "d_loss_d_bn_std_inv = (d_loss_d_bn_norm * bn_diff).sum(0, keepdim = True)\n",
    "cmp('bn_std_inv', d_loss_d_bn_std_inv, bn_std_inv)\n",
    "\n",
    "# ----------bn_std_inv = (bn_var + 1e-5) ** (-0.5) # 1e-5 to avoid division by 0\n",
    "d_loss_d_bn_var = -0.5 * (bn_var + 1e-5) ** (-1.5) * d_loss_d_bn_std_inv\n",
    "cmp('bn_var', d_loss_d_bn_var, bn_var)\n",
    "\n",
    "# ----------bn_var = (1/(batch_size - 1)) * bn_diff_2.sum(dim = 0, keepdim = True)\n",
    "d_loss_d_bn_diff_2 = torch.full(bn_diff_2.shape, 1./(batch_size - 1)) * d_loss_d_bn_var\n",
    "cmp('bn_diff_2', d_loss_d_bn_diff_2, bn_diff_2)\n",
    "\n",
    "# ----------bn_diff_2 = bn_diff ** 2\n",
    "d_loss_d_bn_diff += 2 * bn_diff * d_loss_d_bn_diff_2\n",
    "cmp('bn_diff', d_loss_d_bn_diff, bn_diff)\n",
    "\n",
    "# ----------bn_diff = h_prebn - bn_mean\n",
    "d_loss_d_h_prebn = 1 * d_loss_d_bn_diff.clone()\n",
    "\n",
    "d_loss_d_bn_mean = (-1 * d_loss_d_bn_diff).sum(0, keepdim = True)\n",
    "cmp('bn_mean', d_loss_d_bn_mean, bn_mean)\n",
    "\n",
    "# ----------bn_mean = (1/batch_size) * h_prebn.sum(dim = 0, keepdim = True)\n",
    "d_loss_d_h_prebn += d_loss_d_bn_mean *  torch.full(h_prebn.shape, 1./(batch_size))\n",
    "cmp('h_prebn', d_loss_d_h_prebn, h_prebn)"
   ]
  },
  {
   "cell_type": "code",
   "execution_count": 13,
   "id": "4f56635b-e32b-4dad-8c9d-8a308e5d096d",
   "metadata": {},
   "outputs": [
    {
     "data": {
      "text/plain": [
       "(torch.Size([64, 6]),\n",
       " torch.Size([64, 100]),\n",
       " torch.Size([6, 100]),\n",
       " torch.Size([100]))"
      ]
     },
     "execution_count": 13,
     "metadata": {},
     "output_type": "execute_result"
    }
   ],
   "source": [
    "emb_cat.shape, d_loss_d_h_prebn.shape, W1.shape, b1.shape"
   ]
  },
  {
   "cell_type": "markdown",
   "id": "eeaa5246-a944-4acc-8b37-ac503ff1598c",
   "metadata": {},
   "source": [
    "## first linear layer"
   ]
  },
  {
   "cell_type": "code",
   "execution_count": 14,
   "id": "2dc80aab-fd92-49fb-bdb9-7e518971cf15",
   "metadata": {},
   "outputs": [
    {
     "name": "stdout",
     "output_type": "stream",
     "text": [
      "emb_cat         | exact: True  | approximate: True  | maxdiff: 0.0\n",
      "W1              | exact: True  | approximate: True  | maxdiff: 0.0\n",
      "b1              | exact: True  | approximate: True  | maxdiff: 0.0\n",
      "emb             | exact: True  | approximate: True  | maxdiff: 0.0\n"
     ]
    }
   ],
   "source": [
    "# emb = C[x_batch] # shape: [batch_size, block_size, vector_dim]\n",
    "# emb_cat = emb.view(-1, block_size * vector_dim)\n",
    "# h_prebn =  emb_cat @ W1 + b1\n",
    "#------------------------------------------------------------------\n",
    "\n",
    "# ----------h_prebn =  emb_cat @ W1 + b1\n",
    "d_loss_d_emb_cat = d_loss_d_h_prebn @ W1.T\n",
    "cmp('emb_cat', d_loss_d_emb_cat, emb_cat)\n",
    "\n",
    "d_loss_d_W1 = emb_cat.T @ d_loss_d_h_prebn\n",
    "cmp('W1', d_loss_d_W1, W1)\n",
    "\n",
    "d_loss_d_b1 = d_loss_d_h_prebn.sum(0)\n",
    "cmp('b1', d_loss_d_b1, b1)\n",
    "\n",
    "\n",
    "# ----------emb_cat = emb.view(-1, block_size * vector_dim)\n",
    "d_loss_d_emb = d_loss_d_emb_cat.view(emb.shape)\n",
    "cmp('emb', d_loss_d_emb, emb)"
   ]
  },
  {
   "cell_type": "code",
   "execution_count": 15,
   "id": "f67ba917-6f6d-489f-8d4c-7ccbf0ede760",
   "metadata": {},
   "outputs": [
    {
     "name": "stdout",
     "output_type": "stream",
     "text": [
      "C               | exact: True  | approximate: True  | maxdiff: 0.0\n"
     ]
    }
   ],
   "source": [
    "d_loss_d_C = torch.zeros(C.shape)\n",
    "for block_i in range(x_batch.shape[0]):\n",
    "    for i, word_j in enumerate(x_batch[block_i,...]):\n",
    "        d_loss_d_C[word_j ,...] += d_loss_d_emb[block_i, i, ...]\n",
    "\n",
    "cmp('C', d_loss_d_C, C)"
   ]
  },
  {
   "cell_type": "markdown",
   "id": "5c174780-f01a-44f6-9c7c-bcc890f07db6",
   "metadata": {},
   "source": [
    "# Putting it all together"
   ]
  },
  {
   "cell_type": "code",
   "execution_count": 33,
   "id": "de45be5f-d071-4b5e-9839-b05254716a5c",
   "metadata": {},
   "outputs": [],
   "source": [
    "g = torch.Generator().manual_seed(23)\n",
    "\n",
    "vector_dim = 2\n",
    "C = torch.randn((len(unique_symbols), vector_dim),             generator = g)\n",
    "\n",
    "hidden_layer_size = 100\n",
    "W1 = torch.randn((block_size * vector_dim, hidden_layer_size), generator = g) * (5/3.) / (block_size * vector_dim) ** 0.5\n",
    "b1 = torch.randn((hidden_layer_size,),                         generator = g) * 0.1\n",
    "W2 = torch.randn((hidden_layer_size, len(unique_symbols)),     generator = g) * 0.1\n",
    "b2 = torch.randn((len(unique_symbols),),                       generator = g) * 0.1\n",
    "\n",
    "## batch norm trainable params\n",
    "bn_gain = torch.randn((1, hidden_layer_size)) * 0.1 + 1\n",
    "bn_bias = torch.randn((1, hidden_layer_size)) * 0.1\n",
    "\n",
    "# do not need this\n",
    "# params = [C, W1, b1, W2, b2, bn_gain, bn_bias]\n",
    "# for p in params:\n",
    "#     p.requires_grad = True"
   ]
  },
  {
   "cell_type": "code",
   "execution_count": 34,
   "id": "86ef1590-39b4-4122-a64f-5e5632362bb6",
   "metadata": {},
   "outputs": [
    {
     "name": "stdout",
     "output_type": "stream",
     "text": [
      "0/50000: 3.3607\n",
      "10000/50000: 2.4744\n",
      "20000/50000: 2.3721\n",
      "30000/50000: 2.3402\n",
      "40000/50000: 2.2421\n"
     ]
    }
   ],
   "source": [
    "n_iter = 50_000\n",
    "losses_train = []\n",
    "losses_val = []\n",
    "\n",
    "batch_size = 64\n",
    "\n",
    "with torch.no_grad():\n",
    "    for i_iter in range(n_iter):\n",
    "        rand_indecies = torch.randint(0, X_train.shape[0], (batch_size, ), generator = g)\n",
    "    \n",
    "        x_batch = X_train[rand_indecies, ...]\n",
    "        y_batch = y_train[rand_indecies, ...]\n",
    "    \n",
    "        # ---------------forward pass---------------\n",
    "    \n",
    "        emb = C[x_batch] # shape: [batch_size, block_size, vector_dim]\n",
    "        emb_cat = emb.view(-1, block_size * vector_dim)\n",
    "        h_prebn =  emb_cat @ W1 + b1\n",
    "        \n",
    "        ## BATCH NORM\n",
    "        #mean\n",
    "        bn_mean = (1/batch_size) * h_prebn.sum(dim = 0, keepdim = True)\n",
    "        \n",
    "        #variance\n",
    "        bn_diff = h_prebn - bn_mean\n",
    "        bn_diff_2 = bn_diff ** 2\n",
    "        bn_var = (1/(batch_size - 1)) * bn_diff_2.sum(dim = 0, keepdim = True)\n",
    "        bn_std_inv = (bn_var + 1e-5) ** (-0.5) # 1e-5 to avoid division by 0\n",
    "        \n",
    "        bn_norm = bn_diff * bn_std_inv\n",
    "        bn_scaled = bn_gain * bn_norm + bn_bias\n",
    "        \n",
    "        h = torch.tanh(bn_scaled)\n",
    "        logits = h @ W2 + b2\n",
    "        \n",
    "        # -----softmax-----\n",
    "        # subtract max values to avoid getting exp ** big_value = inf\n",
    "        logit_maxes = logits.max(dim = 1, keepdim = True).values\n",
    "        norm_logits = logits - logit_maxes\n",
    "        counts = norm_logits.exp()\n",
    "        counts_sum_inv = counts.sum(dim = 1, keepdim = True)  ** -1\n",
    "        probs = counts * counts_sum_inv\n",
    "        \n",
    "        #----loss----\n",
    "        log_probs = probs[torch.arange(probs.shape[0]), y_batch].log()\n",
    "        loss = -log_probs.mean() # neg_log_likelihood\n",
    "        losses_train.append(loss.item())\n",
    "        \n",
    "        # ---------------backward pass---------------\n",
    "        # for p in params:\n",
    "        #     p.grad = None\n",
    "        # loss.backward()\n",
    "        \n",
    "        d_loss_d_log_probs = -torch.full((batch_size, ), 1./batch_size)\n",
    "        \n",
    "        d_log_probs_d_probs = 1 / probs\n",
    "        mask = torch.zeros(d_log_probs_d_probs.shape)\n",
    "        mask[torch.arange(probs.shape[0]), y_batch] = 1\n",
    "        d_loss_d_probs = d_loss_d_log_probs.view(batch_size, 1) * d_log_probs_d_probs * mask\n",
    "    \n",
    "        d_loss_d_counts_sum_inv = (d_loss_d_probs * counts).sum(1, keepdim = True)\n",
    "        d_loss_d_counts = d_loss_d_probs * counts_sum_inv\n",
    "        \n",
    "        d_loss_d_counts_2 = d_loss_d_counts_sum_inv * (-counts.sum(dim = 1, keepdim = True) ** -2)\n",
    "        d_loss_d_counts = d_loss_d_counts + d_loss_d_counts_2\n",
    "    \n",
    "        d_loss_d_norm_logits = d_loss_d_counts * counts \n",
    "        d_loss_d_logits = d_loss_d_norm_logits * torch.ones(logits.shape)\n",
    "        \n",
    "        d_loss_d_logit_maxes = (d_loss_d_norm_logits * -torch.ones(logit_maxes.shape)).sum(1, keepdim = True) \n",
    "    \n",
    "        d_loss_d_logits_1 = torch.zeros(logits.shape)\n",
    "        d_loss_d_logits_1[range(d_loss_d_logits_1.shape[0]), logits.max(dim = 1).indices] = 1\n",
    "        d_loss_d_logits += d_loss_d_logits_1 * d_loss_d_logit_maxes\n",
    "    \n",
    "        d_loss_d_h = d_loss_d_logits @ W2.T \n",
    "        d_loss_d_W2 = h.T @ d_loss_d_logits\n",
    "        d_loss_d_b2 = 1 * d_loss_d_logits.sum(0)\n",
    "        d_loss_d_bn_scaled = d_loss_d_h * (1 - h**2)\n",
    "        d_loss_d_bn_gain = (bn_norm * d_loss_d_bn_scaled).sum(0, keepdim = True)\n",
    "        d_loss_d_bn_norm = bn_gain * d_loss_d_bn_scaled\n",
    "        d_loss_d_bn_bias = 1 * d_loss_d_bn_scaled.sum(0, keepdim = True)\n",
    "        d_loss_d_bn_diff = d_loss_d_bn_norm * bn_std_inv\n",
    "        d_loss_d_bn_std_inv = (d_loss_d_bn_norm * bn_diff).sum(0, keepdim = True)\n",
    "        d_loss_d_bn_var = -0.5 * (bn_var + 1e-5) ** (-1.5) * d_loss_d_bn_std_inv\n",
    "        d_loss_d_bn_diff_2 = torch.full(bn_diff_2.shape, 1./(batch_size - 1)) * d_loss_d_bn_var\n",
    "        d_loss_d_bn_diff += 2 * bn_diff * d_loss_d_bn_diff_2\n",
    "        d_loss_d_h_prebn = 1 * d_loss_d_bn_diff.clone()\n",
    "        d_loss_d_bn_mean = (-1 * d_loss_d_bn_diff).sum(0, keepdim = True)\n",
    "        d_loss_d_h_prebn += d_loss_d_bn_mean *  torch.full(h_prebn.shape, 1./(batch_size))\n",
    "    \n",
    "        d_loss_d_emb_cat = d_loss_d_h_prebn @ W1.T\n",
    "        d_loss_d_W1 = emb_cat.T @ d_loss_d_h_prebn\n",
    "        d_loss_d_b1 = d_loss_d_h_prebn.sum(0)\n",
    "        d_loss_d_emb = d_loss_d_emb_cat.view(emb.shape)\n",
    "    \n",
    "        d_loss_d_C = torch.zeros(C.shape)\n",
    "        for block_i in range(x_batch.shape[0]):\n",
    "            for i, word_j in enumerate(x_batch[block_i,...]):\n",
    "                d_loss_d_C[word_j ,...] += d_loss_d_emb[block_i, i, ...]\n",
    "    \n",
    "        grads = [d_loss_d_C, d_loss_d_W1, d_loss_d_b1, d_loss_d_W2, d_loss_d_b2, d_loss_d_bn_gain, d_loss_d_bn_bias]\n",
    "        # ---------------update---------------\n",
    "        lr = 0.1 if i < 30_000 else 0.01\n",
    "    \n",
    "        # for p in params:\n",
    "        #     p.data += -lr * p.grad\n",
    "            \n",
    "        # list of parameters that should be updated:\n",
    "        # [C, W1, b1, W2, b2, bn_gain, bn_bias]\n",
    "    \n",
    "        C += -lr * d_loss_d_C\n",
    "        W1 += -lr * d_loss_d_W1\n",
    "        b1 += -lr * d_loss_d_b1\n",
    "        W2 += -lr * d_loss_d_W2\n",
    "        b2 += -lr * d_loss_d_b2\n",
    "        bn_gain += -lr * d_loss_d_bn_gain\n",
    "        bn_bias += -lr * d_loss_d_bn_bias\n",
    "    \n",
    "        if i_iter % 10_000 == 0:\n",
    "            print(f'{i_iter}/{n_iter}: {loss:.4f}')"
   ]
  },
  {
   "cell_type": "code",
   "execution_count": 35,
   "id": "6e619222-d756-404f-b06e-e7cb42bb2953",
   "metadata": {},
   "outputs": [],
   "source": [
    "# # useful for checking your gradients\n",
    "# for p,g in zip(params, grads):\n",
    "#   cmp(str(tuple(p.shape)), g, p)"
   ]
  },
  {
   "cell_type": "code",
   "execution_count": 36,
   "id": "d849474a-3314-45f8-8e32-0513228da63e",
   "metadata": {},
   "outputs": [
    {
     "data": {
      "text/plain": [
       "[<matplotlib.lines.Line2D at 0x16b84d47a30>]"
      ]
     },
     "execution_count": 36,
     "metadata": {},
     "output_type": "execute_result"
    },
    {
     "data": {
      "image/png": "[encoded data removed]",
      "text/plain": [
       "<Figure size 1600x400 with 1 Axes>"
      ]
     },
     "metadata": {},
     "output_type": "display_data"
    }
   ],
   "source": [
    "import matplotlib.pyplot as plt\n",
    "\n",
    "plt.figure(figsize=(16, 4))\n",
    "plt.plot(range(n_iter), losses_train)"
   ]
  },
  {
   "cell_type": "code",
   "execution_count": 37,
   "id": "738b11e1-02e2-4eec-a3f1-e8b2e2501faa",
   "metadata": {},
   "outputs": [],
   "source": [
    "# calibrate the batch norm in the end of training\n",
    "# (now we cannot evaluate or get prediction for a single example \n",
    "# because NN expects getting a batch to calculate its mean and std)\n",
    "\n",
    "with torch.no_grad():\n",
    "    emb = C[X_train]\n",
    "    h_preact = emb.view(-1, block_size * vector_dim) @ W1 + b1\n",
    "\n",
    "    # measure mean and std of the whole X_train dataset\n",
    "    h_preact_mean = h_preact.mean(dim = 0, keepdim = True)\n",
    "    h_preact_std = h_preact.std(dim = 0, keepdim = True)"
   ]
  },
  {
   "cell_type": "code",
   "execution_count": 38,
   "id": "9ade4650-469d-4968-b4f4-923bb31d9483",
   "metadata": {},
   "outputs": [],
   "source": [
    "@torch.no_grad()\n",
    "def eval(split):\n",
    "    x, y = {'train' : [X_train, y_train], \n",
    "            'val' : [X_val, y_val], \n",
    "            'test' : [X_test, y_test]}[split]\n",
    "    \n",
    "    emb = C[x]\n",
    "    h_preact = emb.view(-1, block_size * vector_dim) @ W1 + b1\n",
    "    h_preact_norm = (h_preact - h_preact_mean) / h_preact_std\n",
    "    h_scaled = bn_gain * h_preact_norm + bn_bias\n",
    "    h = torch.tanh(h_scaled)\n",
    "    \n",
    "    logits = h @ W2 + b2\n",
    "    loss = F.cross_entropy(logits, y)\n",
    "    return loss"
   ]
  },
  {
   "cell_type": "code",
   "execution_count": 39,
   "id": "4f2736fe-0e86-4d15-a3d7-cbc3274347b3",
   "metadata": {},
   "outputs": [
    {
     "data": {
      "text/plain": [
       "tensor(2.1772)"
      ]
     },
     "execution_count": 39,
     "metadata": {},
     "output_type": "execute_result"
    }
   ],
   "source": [
    "eval('train')"
   ]
  },
  {
   "cell_type": "code",
   "execution_count": 40,
   "id": "2d85edf5-aef4-4576-b8b6-b288af674d2a",
   "metadata": {},
   "outputs": [
    {
     "data": {
      "text/plain": [
       "tensor(2.4814)"
      ]
     },
     "execution_count": 40,
     "metadata": {},
     "output_type": "execute_result"
    }
   ],
   "source": [
    "eval('val')"
   ]
  },
  {
   "cell_type": "markdown",
   "id": "245cd308-5603-442b-bcd2-1014c0215295",
   "metadata": {},
   "source": [
    "## Generation of new eng words"
   ]
  },
  {
   "cell_type": "code",
   "execution_count": 41,
   "id": "41948b07-ff83-40f5-9c1a-014a1a79e69d",
   "metadata": {},
   "outputs": [
    {
     "name": "stdout",
     "output_type": "stream",
     "text": [
      "...ting\n",
      "...buzerrive\n",
      "...sur-inoldaceritalnoral\n",
      "...vony\n",
      "...hogoncenity\n",
      "...sorictel\n",
      "...courony\n",
      "...paln\n",
      "...dicpe\n",
      "...dachel\n",
      "...conpetilimpy\n",
      "...mima\n",
      "...oplpherind\n",
      "...abat\n",
      "...mlon\n",
      "...yopolunten\n",
      "...purnsil\n",
      "...euchmisthmicateter\n",
      "...cous\n",
      "...ugbaise\n"
     ]
    }
   ],
   "source": [
    "g = torch.Generator().manual_seed(23)\n",
    "\n",
    "# let's generate some new unique English words!\n",
    "for i in range(20):\n",
    "    word = list(SPECIAL_TOKEN * block_size)\n",
    "    while True:\n",
    "        context = word[-block_size:]\n",
    "        context_idx = torch.tensor([stoi[ch] for ch in context])\n",
    "        \n",
    "        emb = C[context_idx.view(1, -1)]\n",
    "\n",
    "        h_preact = emb.view(-1, block_size * vector_dim) @ W1 + b1\n",
    "        h_preact_norm = (h_preact - h_preact_mean) / h_preact_std\n",
    "        h_scaled = bn_gain * h_preact_norm + bn_bias\n",
    "        h = torch.tanh(h_scaled)\n",
    "        \n",
    "        logits = h @ W2 + b2\n",
    "\n",
    "        # apply softmax\n",
    "        counts = logits.exp()\n",
    "        probs = counts / counts.sum(dim = 1, keepdim = True)\n",
    "\n",
    "        idx = torch.multinomial(probs, num_samples = 1, replacement = True, generator = g).item()\n",
    "        if idx == stoi[SPECIAL_TOKEN]: # if we meet special token - it is the end of the word!\n",
    "            break  \n",
    "        word.append(itos[idx])\n",
    "\n",
    "    print(''.join(word))"
   ]
  },
  {
   "cell_type": "code",
   "execution_count": null,
   "id": "76ef3174-1bb7-40ca-a355-ca5f1e2f87e8",
   "metadata": {},
   "outputs": [],
   "source": []
  },
  {
   "cell_type": "code",
   "execution_count": null,
   "id": "c4e50bea-3a07-46af-8d3c-d3b64727c3d8",
   "metadata": {},
   "outputs": [],
   "source": []
  },
  {
   "cell_type": "code",
   "execution_count": null,
   "id": "ca386c95-47d5-4940-a41c-1bc8f2794768",
   "metadata": {},
   "outputs": [],
   "source": []
  },
  {
   "cell_type": "code",
   "execution_count": null,
   "id": "600b4c83-6b65-49fe-90c1-a6272b9f77a0",
   "metadata": {},
   "outputs": [],
   "source": []
  },
  {
   "cell_type": "code",
   "execution_count": null,
   "id": "e96d7229-d917-4cc4-8976-44966a7dbcb3",
   "metadata": {},
   "outputs": [],
   "source": []
  },
  {
   "cell_type": "code",
   "execution_count": null,
   "id": "9104b261-aeb2-4bfc-85a6-dd8fd9027d57",
   "metadata": {},
   "outputs": [],
   "source": []
  },
  {
   "cell_type": "code",
   "execution_count": null,
   "id": "b9f1d4d5-7762-4ba3-a2b3-65cfaa95b81e",
   "metadata": {},
   "outputs": [],
   "source": []
  }
 ],
 "metadata": {
  "kernelspec": {
   "display_name": "ml_pytorch_python_3_10",
   "language": "python",
   "name": "ml_pytorch_python_3_10"
  },
  "language_info": {
   "codemirror_mode": {
    "name": "ipython",
    "version": 3
   },
   "file_extension": ".py",
   "mimetype": "text/x-python",
   "name": "python",
   "nbconvert_exporter": "python",
   "pygments_lexer": "ipython3",
   "version": "3.10.16"
  }
 },
 "nbformat": 4,
 "nbformat_minor": 5
}

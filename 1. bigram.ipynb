{
 "cells": [
  {
   "cell_type": "markdown",
   "id": "ed83cf5d-d3da-45e0-8be9-9142bb2e27fc",
   "metadata": {},
   "source": [
    "## Read file with words"
   ]
  },
  {
   "cell_type": "code",
   "execution_count": 7,
   "id": "888f8e65-d175-4b69-8a31-da807682baee",
   "metadata": {},
   "outputs": [
    {
     "data": {
      "text/plain": [
       "['ethereal', 'woebegone', 'credulous']"
      ]
     },
     "execution_count": 7,
     "metadata": {},
     "output_type": "execute_result"
    }
   ],
   "source": [
    "with open('unique_english_words.txt', 'r') as f:\n",
    "    words = [word.rstrip() for word in f.readlines()] \n",
    "\n",
    "words[:3]"
   ]
  },
  {
   "cell_type": "code",
   "execution_count": 8,
   "id": "f5082c84-bd85-435e-b0db-b79fbd835038",
   "metadata": {},
   "outputs": [
    {
     "name": "stdout",
     "output_type": "stream",
     "text": [
      "No of words: 750\n",
      "Min len: 3\n",
      "Max len: 29\n"
     ]
    }
   ],
   "source": [
    "print(f'No of words: {len(words)}')\n",
    "print(f'Min len: {min([len(word) for word in words])}')\n",
    "print(f'Max len: {max([len(word) for word in words])}')"
   ]
  },
  {
   "cell_type": "markdown",
   "id": "c72bcb49-ff6c-4705-a74f-3ff17c2c7a98",
   "metadata": {},
   "source": [
    "## Creating bigram using Pytorch"
   ]
  },
  {
   "cell_type": "code",
   "execution_count": 9,
   "id": "45555cc7-fb97-43d8-b438-6a9e7364026f",
   "metadata": {},
   "outputs": [],
   "source": [
    "import torch"
   ]
  },
  {
   "cell_type": "code",
   "execution_count": 10,
   "id": "4c27c3c2-2b4f-476a-9f83-b0242f4b812a",
   "metadata": {},
   "outputs": [
    {
     "data": {
      "text/plain": [
       "{'-',\n",
       " 'a',\n",
       " 'b',\n",
       " 'c',\n",
       " 'd',\n",
       " 'e',\n",
       " 'f',\n",
       " 'g',\n",
       " 'h',\n",
       " 'i',\n",
       " 'j',\n",
       " 'k',\n",
       " 'l',\n",
       " 'm',\n",
       " 'n',\n",
       " 'o',\n",
       " 'p',\n",
       " 'q',\n",
       " 'r',\n",
       " 's',\n",
       " 't',\n",
       " 'u',\n",
       " 'v',\n",
       " 'w',\n",
       " 'x',\n",
       " 'y',\n",
       " 'z'}"
      ]
     },
     "execution_count": 10,
     "metadata": {},
     "output_type": "execute_result"
    }
   ],
   "source": [
    "unique_symbols = set(list(''.join(words)))\n",
    "unique_symbols"
   ]
  },
  {
   "cell_type": "code",
   "execution_count": 12,
   "id": "2769476e-0112-40f4-9c83-97789a4fbb92",
   "metadata": {},
   "outputs": [],
   "source": [
    "SPECIAL_TOKEN = '.'\n",
    "unique_symbols.add(SPECIAL_TOKEN)"
   ]
  },
  {
   "cell_type": "code",
   "execution_count": 14,
   "id": "2da640fa-a3e5-4d06-9366-7140d53a6e0f",
   "metadata": {},
   "outputs": [],
   "source": [
    "stoi = {s: i for i, s in enumerate(unique_symbols)}\n",
    "itos = {i: s for s, i in stoi.items()}"
   ]
  },
  {
   "cell_type": "code",
   "execution_count": 18,
   "id": "3e19ada7-98b7-4a01-969b-16038e583341",
   "metadata": {},
   "outputs": [],
   "source": [
    "n_symbols = len(unique_symbols)"
   ]
  },
  {
   "cell_type": "code",
   "execution_count": 23,
   "id": "3ad4ec0f-0336-4f34-9faa-0292e7d05642",
   "metadata": {},
   "outputs": [
    {
     "data": {
      "text/plain": [
       "tensor([[ 10,   0,  32,   5,  49,   4,  17,   0,   1,  35,   0,   1,   0,   2,\n",
       "           1,  21,   0,   2,   0,   7,   3,   0,   0,   7,   0,   1,   9,   0],\n",
       "        [  0,   0,   0,   0,  19,   0,  11,   0,   0,  11,   0,   0,   0,   0,\n",
       "           0,   7,   0,   0,   0,   0,   0,   0,   0,   3,   0,   0,   0,   0],\n",
       "        [ 45,  17,   0,  26,  63,  21,  31,  11,  14,  26,  38,  28,  12,  97,\n",
       "          33,  22,   8,  36,  65,   2,  41,   6,  16,  13,  35,   0,  18,  26],\n",
       "        [  7,   6,  48,   9,  49,  13,  67,   4,   0,  47,   3,   2,   1,   5,\n",
       "           4,  40,   0,   7,   7,  18,   4,   0,   8,  20,   8,   0,   5,   3],\n",
       "        [ 23,   6, 129, 105,  11,   6,  16,   4,   3,   6,  11,   4,   2,  43,\n",
       "          10,   8,   3,  20,  15,   7,   8,  11,  82,  11,  33,   4,  38,   2],\n",
       "        [  1,   0,  27,   8,  17,   7,  31,   0,   0,  17,   0,   2,   0,   1,\n",
       "           0,  13,   0,   6,   0,   9,   1,   0,   6,  14,   1,   0,  12,   4],\n",
       "        [ 28,   4,  39,  51,   4,  27,   1,   4,   7,  13,  19,   6,   2,  26,\n",
       "           6,   0,   0,  30,  36,   4,  24,   0,  85,  13,  75,   0,  63,   1],\n",
       "        [  2,   1,  15,   1,  18,   0,   7,   0,   0,  13,   0,   0,   0,   2,\n",
       "           0,   1,   0,   0,   0,   6,   0,   0,   1,   4,   1,   0,   2,   0],\n",
       "        [  0,   1,   4,   0,  14,   1,   7,   0,   5,   5,   0,   0,   0,   0,\n",
       "           0,   7,   0,   2,   0,   3,   0,   0,   0,   0,   0,   0,   1,   0],\n",
       "        [ 19,   9,   7,  11,  13,  30,  36,   2,   6,   0,  18,   2,   0,  51,\n",
       "          12,  49,   3,  12,  60,   0,   7,   3,  95,   2,  57,   0,  30,   2],\n",
       "        [  1,   0,   5,  12,  37,   0,  20,   0,   0,  18,   9,   0,   0,   7,\n",
       "           0,  16,   0,   0,   0,   4,   0,   0,   1,   6,  13,   0,  14,  25],\n",
       "        [  1,   0,   5,   0,   2,   0,  11,   0,   0,  13,   0,   0,   0,   2,\n",
       "           1,   6,   0,   0,   0,   1,   1,   0,   3,   2,   0,   0,   0,   8],\n",
       "        [  0,   0,   0,   0,   1,   0,   4,   0,   0,   3,   0,   0,   0,   0,\n",
       "           0,   2,   0,   0,   0,   0,   0,   0,   0,   7,   0,   0,   0,   0],\n",
       "        [  1,   0, 104,   0,  24,   0,  23,  11,   0,  26,  18,   1,   0,  19,\n",
       "           1,  14,   4,  14,  36,   8,   2,   0,   2,  18,  48,   1,   2,  17],\n",
       "        [  0,   0,   6,   9,  13,   0,  17,   0,   0,  10,   0,   0,   0,   0,\n",
       "          20,   7,   0,   0,   0,   0,   0,   0,   0,  15,   3,   0,  15,   0],\n",
       "        [ 11,   3,  18,  43,   5,  12,   5,   6,   6,   5,  34,   7,   0,  15,\n",
       "           6,  26,   2,  23,  12,   2,  18,   4,  67,  80,  11,   0,  45,   1],\n",
       "        [  0,   0,   0,   0,   0,   0,   0,   0,   0,   0,   0,   0,   0,   0,\n",
       "           0,   0,   0,   0,   0,   0,   0,   0,   0,  25,   0,   0,   0,   0],\n",
       "        [  2,   0,  23,   0,  22,   0,  34,   0,   0,  25,  20,   0,   0,   2,\n",
       "           3,  24,   1,   6,   0,   3,  14,   0,   2,  17,   0,   0,   1,   0],\n",
       "        [  1,   0,  32,  14,  42,   0,  45,  19,   0,  30,   0,   0,   0,   0,\n",
       "           0,  36,   0,   0,   3,   6,   0,   0,   0,  13,  10,   0,   4,  35],\n",
       "        [  2,   0,  75,   4,   2,   6,   5,   0,   2,   0,   5,   1,   0,   5,\n",
       "           0,   3,   0,   4,   1,   0,   2,   0,   2,   1,   1,   2,   6,   0],\n",
       "        [  1,   0,   4,  12,  20,   0,  19,   0,   0,  24,   0,   0,   0,   4,\n",
       "           2,  25,   0,   1,   0,   2,   4,   0,   1,  16,   0,   0,  11,   0],\n",
       "        [  0,   0,   5,   0,   5,   0,   1,   0,   0,   2,   0,   0,   0,   1,\n",
       "           0,   2,   1,   0,   0,   3,   0,   0,   0,   1,   6,   0,   0,   0],\n",
       "        [ 34,   1,  62,   3,  35,  37,  32,   7,   2,  31,   2,   0,   0,  16,\n",
       "           4,  22,   3,   0,  32,   4,   1,   0,   6,   8,  61,   1,   0,   0],\n",
       "        [ 15,   2,   3,  32,   9,   8,   5,   2,   2,  21,   9,   0,   0,  93,\n",
       "           6,  14,   0,  32,  12,   2,  10,   3,  23,   2,  18,   0,  30,   0],\n",
       "        [  0,   0,  55,  31,  59,   1,  29,   0,   2,  75,   0,   1,   0,   2,\n",
       "           3,  31,   0,   1,   8,  22,   0,   0,   1,  22,  10,   1,   4,  39],\n",
       "        [  1,   0,   0,   1,   1,   1,   1,   1,   0,   0,   1,   0,   0,   0,\n",
       "           0,   0,   0,   0,   0,   0,   1,   0,   1,   0,   1,   0,   0,   0],\n",
       "        [  2,   1,  38,   0,  57,   3,  57,   2,   0,  58,   1,   0,   0,   1,\n",
       "           3,  39,   0,   0,   2,  13,   5,   0,   1,  27,   0,   0,  47,   1],\n",
       "        [  0,   0,  14,   8,  30,   0,  36,   1,   0,  22,   0,   1,   0,   0,\n",
       "           0,  32,   0,   3,   1,   3,   0,   0,   1,   6,   5,   0,   1,   0]],\n",
       "       dtype=torch.int16)"
      ]
     },
     "execution_count": 23,
     "metadata": {},
     "output_type": "execute_result"
    }
   ],
   "source": [
    "N = torch.zeros((n_symbols, n_symbols), dtype = torch.int16)\n",
    "\n",
    "for word in words:\n",
    "    word = SPECIAL_TOKEN + word + SPECIAL_TOKEN # Add special token in the begginning and in the end of each word\n",
    "    for ch1, ch2 in zip(word, word[1:]):\n",
    "        idx1 = stoi[ch1]\n",
    "        idx2 = stoi[ch2]\n",
    "\n",
    "        N[idx1, idx2] += 1\n",
    "\n",
    "N"
   ]
  },
  {
   "cell_type": "code",
   "execution_count": 30,
   "id": "d4bea2ad-b3c6-4a97-b1cd-d31d389bbaa5",
   "metadata": {},
   "outputs": [],
   "source": [
    "# create new tensor P to store probabilities\n",
    "P = N.float()\n",
    "P = P/P.sum(dim = 1, keepdim = True)"
   ]
  },
  {
   "cell_type": "code",
   "execution_count": 39,
   "id": "838382f8-a944-4575-848d-826c5310141b",
   "metadata": {},
   "outputs": [
    {
     "name": "stdout",
     "output_type": "stream",
     "text": [
      "scanom\n",
      "ctilluky\n",
      "ba\n",
      "gomanesanquxtil\n",
      "ngleffabe\n",
      "fipiodisowicala\n",
      "squssebiorgleasousceflincismaman\n",
      "zaureecheryooid\n",
      "s\n",
      "ganizzenthanste-nsicaverere\n",
      "g\n",
      "k\n",
      "sphratiledegal\n",
      "cioblunidereborns\n",
      "loufla\n",
      "voge\n",
      "ceacons\n",
      "qusiadopercemmengaty\n",
      "usppolarddibee\n",
      "st\n"
     ]
    }
   ],
   "source": [
    "g = torch.Generator().manual_seed(42123)\n",
    "\n",
    "# let's generate some new unique English words!\n",
    "for i in range(20):\n",
    "    word = []\n",
    "    idx = stoi[SPECIAL_TOKEN] # any word always starts with special token '.'\n",
    "    while True:\n",
    "        i_probs = P[idx]\n",
    "        idx = torch.multinomial(i_probs, num_samples = 1, replacement = True, generator = g).item()\n",
    "        if idx == stoi[SPECIAL_TOKEN]: # if we meet special token - it is the end of the word!\n",
    "            break  \n",
    "        word.append(itos[idx])\n",
    "\n",
    "    print(''.join(word))"
   ]
  },
  {
   "cell_type": "code",
   "execution_count": 41,
   "id": "61e4e947-1cfa-490e-be85-0daf77bdcf29",
   "metadata": {},
   "outputs": [
    {
     "name": "stdout",
     "output_type": "stream",
     "text": [
      "Note: you may need to restart the kernel to use updated packages.\n"
     ]
    }
   ],
   "source": [
    "pip list --format=freeze > requirements.txt"
   ]
  }
 ],
 "metadata": {
  "kernelspec": {
   "display_name": "ml_pytorch_python_3_10",
   "language": "python",
   "name": "ml_pytorch_python_3_10"
  },
  "language_info": {
   "codemirror_mode": {
    "name": "ipython",
    "version": 3
   },
   "file_extension": ".py",
   "mimetype": "text/x-python",
   "name": "python",
   "nbconvert_exporter": "python",
   "pygments_lexer": "ipython3",
   "version": "3.10.16"
  }
 },
 "nbformat": 4,
 "nbformat_minor": 5
}

{
 "cells": [
  {
   "cell_type": "code",
   "execution_count": 1,
   "id": "a50839a9-7257-408c-b216-58aaab20cea2",
   "metadata": {},
   "outputs": [],
   "source": [
    "import torch"
   ]
  },
  {
   "cell_type": "code",
   "execution_count": 2,
   "id": "388c98ba-7171-44ac-b71d-37b48047e897",
   "metadata": {},
   "outputs": [
    {
     "data": {
      "text/plain": [
       "['uncinate', 'argute', 'elusive']"
      ]
     },
     "execution_count": 2,
     "metadata": {},
     "output_type": "execute_result"
    }
   ],
   "source": [
    "with open('unique_english_words.txt', 'r') as f:\n",
    "    words = [word.rstrip() for word in f.readlines()] \n",
    "\n",
    "words[:3]"
   ]
  },
  {
   "cell_type": "markdown",
   "id": "438d311d-1dfd-4f47-812b-be26497d0d78",
   "metadata": {},
   "source": [
    "## Create the training set of all the bigrams"
   ]
  },
  {
   "cell_type": "code",
   "execution_count": 3,
   "id": "75013319-8c10-4987-8303-95b8d3572d36",
   "metadata": {},
   "outputs": [],
   "source": [
    "SPECIAL_TOKEN = '.'"
   ]
  },
  {
   "cell_type": "code",
   "execution_count": 4,
   "id": "f2d8387d-6d12-4460-ac18-442902f3d989",
   "metadata": {},
   "outputs": [],
   "source": [
    "unique_symbols = set(list(''.join(words)))\n",
    "unique_symbols.add(SPECIAL_TOKEN)\n",
    "\n",
    "stoi = {s: i for i, s in enumerate(unique_symbols)}\n",
    "itos = {i: s for s, i in stoi.items()}"
   ]
  },
  {
   "cell_type": "code",
   "execution_count": 5,
   "id": "84a22f64-f9bf-432d-a5e5-8c4b4ab8addb",
   "metadata": {},
   "outputs": [
    {
     "name": "stdout",
     "output_type": "stream",
     "text": [
      "tensor([ 1, 18, 16, 25,  4]) tensor([18, 16, 25,  4, 16])\n"
     ]
    }
   ],
   "source": [
    "X = []\n",
    "y = []\n",
    "\n",
    "for word in words:\n",
    "    word = SPECIAL_TOKEN + word + SPECIAL_TOKEN # Add special token in the begginning and in the end of each word\n",
    "    for ch1, ch2 in zip(word, word[1:]):\n",
    "        idx1 = stoi[ch1]\n",
    "        idx2 = stoi[ch2]\n",
    "\n",
    "        X.append(idx1)\n",
    "        y.append(idx2)\n",
    "\n",
    "X = torch.tensor(X)\n",
    "y = torch.tensor(y)\n",
    "\n",
    "print(X[:5], y[:5])"
   ]
  },
  {
   "cell_type": "markdown",
   "id": "29bff83e-468c-4aaf-b6cf-db40f11bfdeb",
   "metadata": {},
   "source": [
    "## One-hot encoding"
   ]
  },
  {
   "cell_type": "code",
   "execution_count": 6,
   "id": "379791a6-ec80-41c8-bbb7-137a0923a586",
   "metadata": {},
   "outputs": [
    {
     "data": {
      "text/plain": [
       "28"
      ]
     },
     "execution_count": 6,
     "metadata": {},
     "output_type": "execute_result"
    }
   ],
   "source": [
    "unique_chars_num = len(unique_symbols)\n",
    "unique_chars_num"
   ]
  },
  {
   "cell_type": "code",
   "execution_count": 7,
   "id": "bde9a4c8-0cf2-4ec8-b442-ba25da1e4c3c",
   "metadata": {},
   "outputs": [
    {
     "data": {
      "text/plain": [
       "torch.Size([9017, 28])"
      ]
     },
     "execution_count": 7,
     "metadata": {},
     "output_type": "execute_result"
    }
   ],
   "source": [
    "import torch.nn.functional as F\n",
    "X_enc = F.one_hot(X, num_classes = unique_chars_num).float()\n",
    "X_enc.shape"
   ]
  },
  {
   "cell_type": "markdown",
   "id": "a28ea4df-ec67-4641-9d0f-7e43f07b27f0",
   "metadata": {},
   "source": [
    "## Softmax explained"
   ]
  },
  {
   "cell_type": "code",
   "execution_count": 8,
   "id": "3eb737ea-79b3-4b31-846b-3147e412667a",
   "metadata": {},
   "outputs": [
    {
     "data": {
      "text/plain": [
       "tensor([[ 1.0083, -0.1599, -1.4693,  0.8788,  0.5180,  0.0457, -0.2957,  1.6794,\n",
       "          0.7590,  0.3541,  0.4715,  0.1588, -1.3286, -0.0857,  0.7065,  0.0481,\n",
       "         -0.5914,  0.5495,  0.0344, -1.0729, -0.1298,  1.3277, -0.6477, -0.5158,\n",
       "          1.1903,  0.6141,  0.2972,  0.7481],\n",
       "        [-0.2463, -0.6501, -0.5154, -1.0536, -0.8390,  2.1327,  0.2512,  1.4136,\n",
       "         -0.5462,  0.7345,  1.0448, -0.8706, -0.4226,  0.2607,  0.2804, -0.4514,\n",
       "         -0.8138,  1.5651, -0.0115,  0.9336, -0.8722, -0.6852, -1.4283,  0.5084,\n",
       "          0.1497,  1.0172, -1.5082, -1.0692]])"
      ]
     },
     "execution_count": 8,
     "metadata": {},
     "output_type": "execute_result"
    }
   ],
   "source": [
    "# create weights matrix which is represent single linear layer\n",
    "# we have 28 input and 28 output (this can be num of neurons as well) \n",
    "W = torch.randn((unique_chars_num, unique_chars_num))\n",
    "\n",
    "X_enc[:2] @ W"
   ]
  },
  {
   "cell_type": "markdown",
   "id": "f6075ac9-0f8d-43f4-8b6b-a9cdc91e73a9",
   "metadata": {},
   "source": [
    "Ideally what we want to get is a probability distribution for the next character in a sequence. But at this moment some of given output numbers are positive, some - negative and we cannot interpret them this way.\n",
    "\n",
    "<br>So we're gonna interpret these numbers as **LOG COUNTS**. To get the counts (we can transform counts to probabilities!) we need to `exponentiate output values` (all values always will be > 0 after exp())."
   ]
  },
  {
   "cell_type": "code",
   "execution_count": 9,
   "id": "b2fdf62f-1fbd-493a-b129-0c95b6028d35",
   "metadata": {},
   "outputs": [
    {
     "data": {
      "text/plain": [
       "tensor([[2.7410, 0.8522, 0.2301, 2.4081, 1.6787, 1.0468, 0.7440, 5.3622, 2.1361,\n",
       "         1.4248, 1.6023, 1.1721, 0.2648, 0.9179, 2.0268, 1.0493, 0.5535, 1.7324,\n",
       "         1.0350, 0.3420, 0.8782, 3.7723, 0.5232, 0.5970, 3.2882, 1.8481, 1.3461,\n",
       "         2.1130],\n",
       "        [0.7817, 0.5220, 0.5973, 0.3487, 0.4321, 8.4377, 1.2856, 4.1106, 0.5792,\n",
       "         2.0843, 2.8428, 0.4187, 0.6554, 1.2979, 1.3237, 0.6367, 0.4432, 4.7830,\n",
       "         0.9886, 2.5436, 0.4180, 0.5040, 0.2397, 1.6626, 1.1615, 2.7655, 0.2213,\n",
       "         0.3433]])"
      ]
     },
     "execution_count": 9,
     "metadata": {},
     "output_type": "execute_result"
    }
   ],
   "source": [
    "# negative vals are becoming 0 < val < 1 vals\n",
    "# and positive vals are becoming even more positive (and > 1)\n",
    "(X_enc[:2] @ W).exp()"
   ]
  },
  {
   "cell_type": "markdown",
   "id": "37ba2ce2-7448-4175-9cac-0943fb293fd3",
   "metadata": {},
   "source": [
    "And now we can interpret these values as counts. Now we can calculate `probabilities` based on these counts."
   ]
  },
  {
   "cell_type": "code",
   "execution_count": 10,
   "id": "a9622a23-4040-4653-b0fc-23e0fa687945",
   "metadata": {},
   "outputs": [
    {
     "data": {
      "text/plain": [
       "tensor([[0.0627, 0.0195, 0.0053, 0.0551, 0.0384, 0.0240, 0.0170, 0.1227, 0.0489,\n",
       "         0.0326, 0.0367, 0.0268, 0.0061, 0.0210, 0.0464, 0.0240, 0.0127, 0.0397,\n",
       "         0.0237, 0.0078, 0.0201, 0.0864, 0.0120, 0.0137, 0.0753, 0.0423, 0.0308,\n",
       "         0.0484],\n",
       "        [0.0184, 0.0123, 0.0141, 0.0082, 0.0102, 0.1989, 0.0303, 0.0969, 0.0137,\n",
       "         0.0491, 0.0670, 0.0099, 0.0154, 0.0306, 0.0312, 0.0150, 0.0104, 0.1127,\n",
       "         0.0233, 0.0599, 0.0099, 0.0119, 0.0056, 0.0392, 0.0274, 0.0652, 0.0052,\n",
       "         0.0081]])"
      ]
     },
     "execution_count": 10,
     "metadata": {},
     "output_type": "execute_result"
    }
   ],
   "source": [
    "## THIS IS A SOFTMAX!\n",
    "\n",
    "counts = (X_enc[:2] @ W).exp()\n",
    "counts / counts.sum(axis = 1, keepdim = True)"
   ]
  },
  {
   "cell_type": "markdown",
   "id": "72aebf01-2730-4bef-b556-ce6f7deaa4cc",
   "metadata": {},
   "source": [
    "## Single linear layer"
   ]
  },
  {
   "cell_type": "markdown",
   "id": "4f501b7e-ceda-4b8f-8ed1-4e2de1f80186",
   "metadata": {},
   "source": [
    "How can we optimize `W` to obtain good reasonable but not random predictions?\n",
    "<br>We need **LOSS FUNCTION**."
   ]
  },
  {
   "cell_type": "code",
   "execution_count": 11,
   "id": "fb12b13a-098e-449e-81c6-2b4711ad8336",
   "metadata": {},
   "outputs": [],
   "source": [
    "def neg_log_likelihood(y_true, y_pred):\n",
    "    # y_true - indecies (e.g. [0, 2, 1])\n",
    "    # y_pred - prob density (e.g. [[0.1, 0.1, 0.8], [0.1, 0.1, 0.8], [0.1, 0.1, 0.8]])\n",
    "    \n",
    "    assert y_true.shape[0] == y_pred.shape[0], \"'y' shapes doesn't match!\"\n",
    "    \n",
    "    n = y_true.shape[0]\n",
    "    prob = y_pred[torch.arange(n), y_true]\n",
    "    log_prob = prob.log()\n",
    "    log_likelihood = log_prob.mean()\n",
    "    return -log_likelihood"
   ]
  },
  {
   "cell_type": "code",
   "execution_count": 12,
   "id": "b3354e30-fd3f-4bc5-89eb-ef5943762550",
   "metadata": {},
   "outputs": [],
   "source": [
    "# --------------initialize the weights--------------\n",
    "# create a generator for reproducible results\n",
    "g = torch.Generator().manual_seed(23)\n",
    "W = torch.randn((unique_chars_num, unique_chars_num), \n",
    "                generator = g, \n",
    "                requires_grad = True)"
   ]
  },
  {
   "cell_type": "code",
   "execution_count": 13,
   "id": "dbb634a6-f5a3-4e0c-87d0-9fa97ee1b870",
   "metadata": {},
   "outputs": [],
   "source": [
    "n_iter = 10_000\n",
    "\n",
    "loss_list = []\n",
    "for i in range(n_iter):\n",
    "    # --------------forward pass--------------\n",
    "    logits = X_enc @ W\n",
    "\n",
    "    # apply softmax\n",
    "    counts = logits.exp()\n",
    "    probs = counts / counts.sum(dim = 1, keepdim = True)\n",
    "\n",
    "    # calculate loss\n",
    "    loss = neg_log_likelihood(y, probs)\n",
    "    loss_list.append(loss.item())\n",
    "\n",
    "    # --------------backward pass--------------\n",
    "    W.grad = None\n",
    "    loss.backward()\n",
    "\n",
    "    # update weights\n",
    "    W.data += -1 * W.grad\n",
    "    "
   ]
  },
  {
   "cell_type": "code",
   "execution_count": 14,
   "id": "8bd62c6c-2fbc-4d48-8acc-921e5b36912e",
   "metadata": {},
   "outputs": [
    {
     "data": {
      "text/plain": [
       "[<matplotlib.lines.Line2D at 0x1c707070880>]"
      ]
     },
     "execution_count": 14,
     "metadata": {},
     "output_type": "execute_result"
    },
    {
     "data": {
      "image/png": "[encoded data removed]",
      "text/plain": [
       "<Figure size 1600x400 with 1 Axes>"
      ]
     },
     "metadata": {},
     "output_type": "display_data"
    }
   ],
   "source": [
    "import matplotlib.pyplot as plt\n",
    "\n",
    "plt.figure(figsize=(16, 4))\n",
    "plt.plot(loss_list)"
   ]
  },
  {
   "cell_type": "code",
   "execution_count": 15,
   "id": "9d4029ae-8786-4334-86ed-07d824d9e87c",
   "metadata": {},
   "outputs": [
    {
     "data": {
      "text/plain": [
       "[2.565664529800415,\n",
       " 2.5656633377075195,\n",
       " 2.565661668777466,\n",
       " 2.5656607151031494,\n",
       " 2.565659284591675]"
      ]
     },
     "execution_count": 15,
     "metadata": {},
     "output_type": "execute_result"
    }
   ],
   "source": [
    "loss_list[-5:]"
   ]
  },
  {
   "cell_type": "markdown",
   "id": "aa9e64ed-7d32-4e2c-907e-08e5a2f16749",
   "metadata": {},
   "source": [
    "The best loss we can get is somewhere around the loss we obtained for a simple bigram model which is `normilized negative log-likelihood = 2.582085132598877`!"
   ]
  },
  {
   "cell_type": "markdown",
   "id": "2956dd92-2cb3-43c1-8663-268a8a745685",
   "metadata": {},
   "source": [
    "## Predictions!"
   ]
  },
  {
   "cell_type": "code",
   "execution_count": 16,
   "id": "a4a8e963-c484-45ea-822e-a782fe84deda",
   "metadata": {},
   "outputs": [
    {
     "name": "stdout",
     "output_type": "stream",
     "text": [
      "p\n",
      "acak\n",
      "protonus\n",
      "ilul\n",
      "cosnghodhanalaltin\n",
      "moudous\n",
      "e\n",
      "nt\n",
      "e\n",
      "mantybbis\n",
      "blbllop\n",
      "antyacalouroouacigas\n",
      "flljoxypinckenis\n",
      "pesatolousciofffawhasystingoumarpxtrarup\n",
      "veral\n",
      "fet\n",
      "e\n",
      "sing\n",
      "bult\n",
      "e\n"
     ]
    }
   ],
   "source": [
    "g = torch.Generator().manual_seed(55)\n",
    "\n",
    "# let's generate some new unique English words!\n",
    "for i in range(20):\n",
    "    word = []\n",
    "    idx = stoi[SPECIAL_TOKEN] # any word always starts with special token '.'\n",
    "    while True:\n",
    "\n",
    "        # one-hot encoding of prev character\n",
    "        x_enc = F.one_hot(torch.tensor([idx]), num_classes = unique_chars_num).float()\n",
    "        \n",
    "        ## forward pass\n",
    "        logits = x_enc @ W\n",
    "\n",
    "        # apply softmax\n",
    "        counts = logits.exp()\n",
    "        probs = counts / counts.sum(dim = 1, keepdim = True)\n",
    "\n",
    "        idx = torch.multinomial(probs, num_samples = 1, replacement = True, generator = g).item()\n",
    "        if idx == stoi[SPECIAL_TOKEN]: # if we meet special token - it is the end of the word!\n",
    "            break  \n",
    "        word.append(itos[idx])\n",
    "\n",
    "    print(''.join(word))"
   ]
  },
  {
   "cell_type": "code",
   "execution_count": 17,
   "id": "6393a968-6ebe-4a3a-a1d1-8c6c290f6cea",
   "metadata": {},
   "outputs": [],
   "source": [
    "# wsausus\n",
    "# umpun\n",
    "# cenuroscot\n",
    "# dalyoloap-whenuciack\n",
    "# jugind\n",
    "# zocankammllisiman\n",
    "# c\n",
    "# cericb\n",
    "# wbusobousty\n",
    "# bschaibunuen\n",
    "# uine\n",
    "# stataptomatkebrrrupll\n",
    "# gthifqk\n",
    "# cudlf\n",
    "# w-uplskoroul\n",
    "# uppeatingloumapuingmopywallisoulellen\n",
    "# plelisiveriniqud\n",
    "# kscombuitripsenntususcurdoucefee\n",
    "# y\n",
    "# spaburisherostiscenchornored"
   ]
  }
 ],
 "metadata": {
  "kernelspec": {
   "display_name": "ml_pytorch_python_3_10",
   "language": "python",
   "name": "ml_pytorch_python_3_10"
  },
  "language_info": {
   "codemirror_mode": {
    "name": "ipython",
    "version": 3
   },
   "file_extension": ".py",
   "mimetype": "text/x-python",
   "name": "python",
   "nbconvert_exporter": "python",
   "pygments_lexer": "ipython3",
   "version": "3.10.16"
  }
 },
 "nbformat": 4,
 "nbformat_minor": 5
}
